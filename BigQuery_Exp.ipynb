{
  "nbformat": 4,
  "nbformat_minor": 0,
  "metadata": {
    "colab": {
      "name": "BigQuery_Exp.ipynb",
      "provenance": [],
      "collapsed_sections": [],
      "toc_visible": true
    },
    "kernelspec": {
      "display_name": "Python 3",
      "name": "python3"
    },
    "language_info": {
      "name": "python"
    }
  },
  "cells": [
    {
      "cell_type": "code",
      "metadata": {
        "id": "PYEI5ugvXQXe"
      },
      "source": [
        "import os\n",
        "import time\n",
        "import re\n",
        "\n",
        "import numpy as np\n",
        "import pandas as pd\n",
        "import matplotlib.pyplot as plt\n",
        "import seaborn as sns\n",
        "\n",
        "from sklearn.model_selection import train_test_split\n",
        "\n",
        "import nltk\n",
        "from nltk import sent_tokenize\n",
        "from nltk import word_tokenize\n",
        "from bs4 import BeautifulSoup\n",
        "import spacy\n",
        "\n",
        "from google.cloud import bigquery\n",
        "from google.cloud.exceptions import NotFound\n",
        "from google.cloud import storage\n",
        "from google.colab import drive\n",
        "from google.colab import files\n",
        "from google.api_core import datetime_helpers\n",
        "\n",
        "PROJECT_PATH = '/content/drive/MyDrive/Kaggle/bq-4-26'\n",
        "TITANIC_PATH = '/content/drive/MyDrive/Kaggle/bq-4-26/titanic'\n",
        "KEYS_PATH = '/content/drive/MyDrive/Kaggle/bq-4-26/keys'\n",
        "KEY = 'kaggle-colab-4-26-3e8884497243.json'\n",
        "KEY_PATH = os.path.join(KEYS_PATH, KEY)\n",
        "os.environ[\"GOOGLE_APPLICATION_CREDENTIALS\"] = KEY_PATH"
      ],
      "execution_count": 105,
      "outputs": []
    },
    {
      "cell_type": "code",
      "metadata": {
        "id": "_tiAhj2c0-zl"
      },
      "source": [
        "# !pip list"
      ],
      "execution_count": 42,
      "outputs": []
    },
    {
      "cell_type": "code",
      "metadata": {
        "id": "dIFe4bwv1TYl"
      },
      "source": [
        "# os.chdir(KEYS_PATH)\n",
        "# !pwd\n",
        "# !ls"
      ],
      "execution_count": 43,
      "outputs": []
    },
    {
      "cell_type": "markdown",
      "metadata": {
        "id": "wMEiEZoiXewX"
      },
      "source": [
        "# Kaggle Setup"
      ]
    },
    {
      "cell_type": "code",
      "metadata": {
        "colab": {
          "base_uri": "https://localhost:8080/"
        },
        "id": "iCyphCzv9MnI",
        "outputId": "4580c07c-f913-44d4-8e80-4a33ead3bd43"
      },
      "source": [
        "os.chdir('/content/drive/MyDrive/Kaggle')\n",
        "!ls\n",
        "\n",
        "# Upload kaggle API key file\n",
        "# uploaded = files.upload()"
      ],
      "execution_count": 44,
      "outputs": [
        {
          "output_type": "stream",
          "text": [
            "bq-4-26  kaggle.json  tps_mar\n"
          ],
          "name": "stdout"
        }
      ]
    },
    {
      "cell_type": "code",
      "metadata": {
        "id": "OzBh4zuKDk67"
      },
      "source": [
        "# !mkdir -p ~/.kaggle\n",
        "# !cp kaggle.json ~/.kaggle/\n",
        "# !chmod 600 ~/.kaggle/kaggle.json\n",
        "# !ls ~/.kaggle\n",
        "\n",
        "# !kaggle --version"
      ],
      "execution_count": 45,
      "outputs": []
    },
    {
      "cell_type": "code",
      "metadata": {
        "id": "qSsF8t4KwYp-"
      },
      "source": [
        "# # Trends brain data download\n",
        "# os.chdir(DATASET_PATH)\n",
        "# !kaggle competitions download -c trends-assessment-prediction"
      ],
      "execution_count": 46,
      "outputs": []
    },
    {
      "cell_type": "code",
      "metadata": {
        "colab": {
          "base_uri": "https://localhost:8080/"
        },
        "id": "WEM0clsgGjTN",
        "outputId": "0014ef14-f2dd-48b0-f8cd-150e3fbc502d"
      },
      "source": [
        "# # titanic dataset download\n",
        "\n",
        "# os.chdir(DATASET_PATH)\n",
        "os.chdir('bq-4-26/titanic')\n",
        "!pwd\n",
        "\n",
        "# !kaggle competitions download -c titanic"
      ],
      "execution_count": 47,
      "outputs": [
        {
          "output_type": "stream",
          "text": [
            "/content/drive/MyDrive/Kaggle/bq-4-26/titanic\n"
          ],
          "name": "stdout"
        }
      ]
    },
    {
      "cell_type": "markdown",
      "metadata": {
        "id": "J24l6tXrH-uy"
      },
      "source": [
        "# Big Query Functions\n",
        "Client object creation requires authentication setup <br>\n",
        "https://cloud.google.com/bigquery/docs/reference/libraries\n",
        "\n",
        "Using big query to take a csv from google drive and run some queries and dataframe transformations. <br>\n",
        "\n",
        "Datasets can be created in BigQuery's GUI or by command."
      ]
    },
    {
      "cell_type": "code",
      "metadata": {
        "colab": {
          "base_uri": "https://localhost:8080/"
        },
        "id": "fPrXAwgZMFK-",
        "outputId": "b8385d7a-f8ac-4480-9bb4-ae4783abc019"
      },
      "source": [
        "%load_ext google.colab.data_table\n",
        "# to revert back to standard data table display methods\n",
        "# %unload_ext google.colab.data_table\n",
        "\n",
        "# Setting API target\n",
        "PROJECT_ID = 'kaggle-colab-4-26'\n",
        "dataset_name = 'titanic'\n",
        "table_name = 'train'\n",
        "\n",
        "# Construct a bigquery client object\n",
        "client = bigquery.Client(PROJECT_ID)"
      ],
      "execution_count": 48,
      "outputs": [
        {
          "output_type": "stream",
          "text": [
            "The google.colab.data_table extension is already loaded. To reload it, use:\n",
            "  %reload_ext google.colab.data_table\n"
          ],
          "name": "stdout"
        }
      ]
    },
    {
      "cell_type": "markdown",
      "metadata": {
        "id": "XOwibNNJe8B-"
      },
      "source": [
        "## Project Details"
      ]
    },
    {
      "cell_type": "code",
      "metadata": {
        "id": "RShx7aFGfLqR"
      },
      "source": [
        "# List all datasets and tables in project\n",
        "def listBQProjectElements(project_id):\n",
        "\n",
        "  project = client.project\n",
        "  datasets = client.list_datasets()\n",
        "\n",
        "  # List datasets given project\n",
        "  if datasets:\n",
        "    print(\"Project: {}\".format(project))\n",
        "    for dataset in datasets:\n",
        "      print(\"Datasets: {}\".format(dataset.dataset_id))\n",
        "      tables = client.list_tables(dataset.dataset_id)\n",
        "      for table in tables:\n",
        "        print(\"\\t\\tTables: {}\".format(table.table_id))\n",
        "  else:\n",
        "    print(\"{} project does not contain any datasets\".format(project))\n",
        "\n",
        "# Output table properties\n",
        "def getTableProperties(table_ref):\n",
        "  table = client.get_table(table_ref)\n",
        "  print(\"Schema:\")\n",
        "  display(table.schema)\n",
        "  print(\"\\nDescription:\")\n",
        "  display(table.description)\n",
        "  print(\"\\nNumber of Rows:\")\n",
        "  display(table.num_rows)"
      ],
      "execution_count": 49,
      "outputs": []
    },
    {
      "cell_type": "markdown",
      "metadata": {
        "id": "xhhgic-NfFSY"
      },
      "source": [
        "## Assigning Object Variables"
      ]
    },
    {
      "cell_type": "code",
      "metadata": {
        "id": "4Ov-WY3fusB_"
      },
      "source": [
        "# Assign dataset objects\n",
        "def getDatasetObjects(dataset_name, display=True):\n",
        "  dataset_id = client.project + \".\" + dataset_name\n",
        "  dataset_ref = client.dataset(dataset_name)\n",
        "  # dataset_fqid = bigquery.Dataset(dataset_id) # forced and object does not have attributes even though it prints the same\n",
        "  dataset_fqid = client.get_dataset(dataset_ref) # same as dataset_fqid using reference isntead of id\n",
        "  \n",
        "  if display:\n",
        "    print(\"Dataset ID (String): \\t\\t{}\".format(dataset_id))\n",
        "    print(\"Dataset Reference: \\t\\t{}\".format(dataset_ref))\n",
        "    print(\"Dataset Fully Qualified ID: \\t{}\".format(dataset_fqid))\n",
        " \n",
        "  return dataset_id, dataset_ref, dataset_fqid\n",
        "\n",
        "\n",
        "# Assign Table Objects\n",
        "def getTableObjects(dataset_name, table_name, dislpay=True):\n",
        "  dataset_id, dataset_ref, dataset_fqid = getDatasetObjects(dataset_name, display=False)\n",
        "  table_id = dataset_id + \".\" + table_name\n",
        "  table_ref = dataset_ref.table(table_name)\n",
        "  # table_fqid = bigquery.Table(table_id) # forced and object does not have attributes even though it prints the same\n",
        "  table_fqid = client.get_table(table_ref) # same as table_fqid using reference instead of table_id\n",
        "\n",
        "  if display:\n",
        "    print(\"Table ID (String): \\t\\t{}\".format(table_id))\n",
        "    print(\"Table Reference: \\t\\t{}\".format(table_ref))\n",
        "    print(\"Table Fully Qualified ID: \\t{}\".format(table_fqid))\n",
        "\n",
        "  return table_id, table_ref, table_fqid"
      ],
      "execution_count": 50,
      "outputs": []
    },
    {
      "cell_type": "markdown",
      "metadata": {
        "id": "PoUojiXwfjEY"
      },
      "source": [
        "## Creation and Deletion"
      ]
    },
    {
      "cell_type": "code",
      "metadata": {
        "id": "aQ9M9jULfoi4"
      },
      "source": [
        "# Create new dataset\n",
        "def createDataset(dataset_name):\n",
        "# new_dataset = \"new_dataset\"\n",
        "# client.create_dataset(new_dataset)\n",
        "  pass\n",
        "\n",
        "\n",
        "# Delete dataset\n",
        "def deleteDataset(dataset_name):\n",
        "  pass\n",
        "\n",
        "\n",
        "# Create new table in dataset\n",
        "def createTable(dataset_ref, table_name):\n",
        "  table_ref = dataset_ref.table(table_name)\n",
        "  if not doesTableExist(table_ref):\n",
        "    table = bigquery.Table(table_ref)\n",
        "    table = client.create_table(table)\n",
        "    print(\"Table {} has been created.\".format(table_name))\n",
        "\n",
        "\n",
        "# Delete table in dataset\n",
        "def deleteTable(dataset_ref, table_name):\n",
        "  table_ref = dataset_ref.table(table_name)\n",
        "  if doesTableExist(table_ref):\n",
        "    table = bigquery.Table(table_ref)\n",
        "    client.delete_table(table)\n",
        "    print(\"Table {} has been deleted.\".format(table_name))\n",
        "\n",
        "\n",
        "# Creates table and populates with CSV contents in dataset\n",
        "def populateTableFromCSV(dataset_fqid, table_fqid, file_csv=0):\n",
        "  if not doesTableExist(table_fqid):\n",
        "    print(\"ready to create table\")\n",
        "    job_config = bigquery.LoadJobConfig()\n",
        "    job_config.source_format = bigquery.SourceFormat.CSV\n",
        "    job_config.autodetect = True\n",
        "\n",
        "    with open(file_csv, \"rb\") as source_file:\n",
        "      job = client.load_table_from_file(source_file, table_fqid, job_config = job_config)\n",
        "    \n",
        "    job.result()\n",
        "    print(\"Loaded {} rows into {}:{}.\".format(job.output_rows, dataset_fqid.dataset_id, table_fqid.table_id))\n",
        "  else:\n",
        "    print(\"table already exists\")\n"
      ],
      "execution_count": 51,
      "outputs": []
    },
    {
      "cell_type": "markdown",
      "metadata": {
        "id": "Qz6ZwNcdfUHQ"
      },
      "source": [
        "## Checks\n"
      ]
    },
    {
      "cell_type": "code",
      "metadata": {
        "id": "VqDeUPWHfguo"
      },
      "source": [
        "# Check if dataset exists\n",
        "def doesDatasetExist(dataset_fqid):\n",
        "  try:\n",
        "    client.get_dataset(dataset_fqid)\n",
        "    print(\"Dataset {} exists.\".format(dataset_fqid.dataset_id))\n",
        "    return True\n",
        "  except NotFound:\n",
        "    print(\"Dataset {} not found.\".format(dataset_fqid.dataset_id))\n",
        "\n",
        "\n",
        "# Check if table exists\n",
        "def doesTableExist(table_fqid):\n",
        "  try:\n",
        "    client.get_table(table_fqid)\n",
        "    print(\"Table {} exists.\".format(table_fqid.table_id))\n",
        "    return True\n",
        "  except NotFound:\n",
        "    print(\"Table {} is not found.\".format(table_fqid.table_id))"
      ],
      "execution_count": 52,
      "outputs": []
    },
    {
      "cell_type": "markdown",
      "metadata": {
        "id": "M0y0sgSjf65f"
      },
      "source": [
        "# Uploading Titanic Training Dataset to Big Query Dataset"
      ]
    },
    {
      "cell_type": "markdown",
      "metadata": {
        "id": "HppHWzAxgTqn"
      },
      "source": [
        "First check the contents of the project tree\n"
      ]
    },
    {
      "cell_type": "code",
      "metadata": {
        "colab": {
          "base_uri": "https://localhost:8080/"
        },
        "id": "2mTjY9bONXbW",
        "outputId": "f8b3d2f6-e0c6-4f2e-c621-a70e7f6678a6"
      },
      "source": [
        "listBQProjectElements(PROJECT_ID)"
      ],
      "execution_count": 53,
      "outputs": [
        {
          "output_type": "stream",
          "text": [
            "Project: kaggle-colab-4-26\n",
            "Datasets: titanic\n",
            "\t\tTables: train\n"
          ],
          "name": "stdout"
        }
      ]
    },
    {
      "cell_type": "markdown",
      "metadata": {
        "id": "9HyLcRBngiBf"
      },
      "source": [
        "Assign object variables for the target dataset and table for ease of use in later functions. <br>\n",
        "\n",
        "Documentation and errors may reference the ID in both string or fully-qualified notation.  This can be thought of as the difference between hostname vs FQDN."
      ]
    },
    {
      "cell_type": "code",
      "metadata": {
        "id": "s3smHyh80at6",
        "colab": {
          "base_uri": "https://localhost:8080/"
        },
        "outputId": "5d84c734-89f1-408c-c5b0-bdec24154530"
      },
      "source": [
        "titanic_id, titanic_ref, titanic_fqid = getDatasetObjects(dataset_name)\n",
        "print(\"\\n\")\n",
        "train_id, train_ref, train_fqid = getTableObjects(dataset_name, table_name)\n",
        "print(\"\\n\")\n",
        "\n",
        "# Verify dataset and table existence\n",
        "doesDatasetExist(titanic_fqid)\n",
        "doesTableExist(train_fqid)"
      ],
      "execution_count": 54,
      "outputs": [
        {
          "output_type": "stream",
          "text": [
            "Dataset ID (String): \t\tkaggle-colab-4-26.titanic\n",
            "Dataset Reference: \t\tDatasetReference('kaggle-colab-4-26', 'titanic')\n",
            "Dataset Fully Qualified ID: \tDataset(DatasetReference('kaggle-colab-4-26', 'titanic'))\n",
            "\n",
            "\n",
            "Table ID (String): \t\tkaggle-colab-4-26.titanic.train\n",
            "Table Reference: \t\tTableReference(DatasetReference('kaggle-colab-4-26', 'titanic'), 'train')\n",
            "Table Fully Qualified ID: \tTable(TableReference(DatasetReference('kaggle-colab-4-26', 'titanic'), 'train'))\n",
            "\n",
            "\n",
            "Dataset titanic exists.\n",
            "Table train exists.\n"
          ],
          "name": "stdout"
        },
        {
          "output_type": "execute_result",
          "data": {
            "text/plain": [
              "True"
            ]
          },
          "metadata": {
            "tags": []
          },
          "execution_count": 54
        }
      ]
    },
    {
      "cell_type": "markdown",
      "metadata": {
        "id": "CgyI1jeIhECH"
      },
      "source": [
        "The table will be deleted in order to perform a clean upload.<br>\n",
        "Schema, description, and rows are verified."
      ]
    },
    {
      "cell_type": "code",
      "metadata": {
        "colab": {
          "base_uri": "https://localhost:8080/",
          "height": 468
        },
        "id": "Ur_dUD8sH3JP",
        "outputId": "f593c358-d21d-4827-8a81-e8ea7210a6be"
      },
      "source": [
        "deleteTable(titanic_fqid, \"train\")\n",
        "populateTableFromCSV(titanic_fqid, train_fqid, 'train.csv')\n",
        "print(\"\\n\")\n",
        "getTableProperties(train_ref)"
      ],
      "execution_count": 55,
      "outputs": [
        {
          "output_type": "stream",
          "text": [
            "Table train exists.\n",
            "Table train has been deleted.\n",
            "Table train is not found.\n",
            "ready to create table\n",
            "Loaded 891 rows into titanic:train.\n",
            "\n",
            "\n",
            "Schema:\n"
          ],
          "name": "stdout"
        },
        {
          "output_type": "display_data",
          "data": {
            "text/plain": [
              "[SchemaField('PassengerId', 'INTEGER', 'NULLABLE', None, ()),\n",
              " SchemaField('Survived', 'INTEGER', 'NULLABLE', None, ()),\n",
              " SchemaField('Pclass', 'INTEGER', 'NULLABLE', None, ()),\n",
              " SchemaField('Name', 'STRING', 'NULLABLE', None, ()),\n",
              " SchemaField('Sex', 'STRING', 'NULLABLE', None, ()),\n",
              " SchemaField('Age', 'FLOAT', 'NULLABLE', None, ()),\n",
              " SchemaField('SibSp', 'INTEGER', 'NULLABLE', None, ()),\n",
              " SchemaField('Parch', 'INTEGER', 'NULLABLE', None, ()),\n",
              " SchemaField('Ticket', 'STRING', 'NULLABLE', None, ()),\n",
              " SchemaField('Fare', 'FLOAT', 'NULLABLE', None, ()),\n",
              " SchemaField('Cabin', 'STRING', 'NULLABLE', None, ()),\n",
              " SchemaField('Embarked', 'STRING', 'NULLABLE', None, ())]"
            ]
          },
          "metadata": {
            "tags": []
          }
        },
        {
          "output_type": "stream",
          "text": [
            "\n",
            "Description:\n"
          ],
          "name": "stdout"
        },
        {
          "output_type": "display_data",
          "data": {
            "text/plain": [
              "None"
            ]
          },
          "metadata": {
            "tags": []
          }
        },
        {
          "output_type": "stream",
          "text": [
            "\n",
            "Number of Rows:\n"
          ],
          "name": "stdout"
        },
        {
          "output_type": "display_data",
          "data": {
            "text/plain": [
              "891"
            ]
          },
          "metadata": {
            "tags": []
          }
        }
      ]
    },
    {
      "cell_type": "markdown",
      "metadata": {
        "id": "E963K3poGgRz"
      },
      "source": [
        "## Saving Table Snapshot\n",
        "Mistakes can be undone in multiple ways:\n",
        "- Create and revert to a snapshot <br>\n",
        "https://googleapis.dev/python/bigquery/latest/usage/tables.html\n",
        "\n",
        "- Use decorators for time travel <br>\n",
        "https://cloud.google.com/bigquery/docs/time-travel#restore-a-table\n",
        "\n",
        "- Backup table to another table for external use <br>\n",
        "https://medium.com/google-cloud/how-to-backup-a-bigquery-table-or-dataset-to-google-cloud-storage-and-restore-from-it-6ef7eb322c6d\n"
      ]
    },
    {
      "cell_type": "code",
      "metadata": {
        "id": "TWXoxEwNqmgO"
      },
      "source": [
        "# Creating a snapshot\n",
        "\n",
        "def createTableSnapshot(table_id):\n",
        "  snapshot_epoch = int(time.time() * 1000)\n",
        "  print(snapshot_epoch)\n",
        "  # Ensuring that the snapshot is newer than the creation of the table\n",
        "  # Otherwise, revert to the creation of the table \n",
        "  table = client.get_table(table_id)\n",
        "\n",
        "  created_epoch = datetime_helpers.to_milliseconds(table.created)\n",
        "  if created_epoch > snapshot_epoch:\n",
        "    snapshot_epoch = created_epoch\n",
        "\n",
        "  return snapshot_epoch\n",
        "\n",
        "def revertTableToSnapshot(dataset_id, table_id, snapshot_epoch, recovery_table_name):\n",
        "  recovered_table_id = dataset_id + \".\" + recovery_table_name\n",
        "  \n",
        "  try:\n",
        "    recovered_table_fqid = client.get_table(recovered_table_id)\n",
        "    print(\"Table {} already exists\".format(recovery_table_name))\n",
        "\n",
        "  except NotFound:\n",
        "    print(\"Table does not already exist. Recovering {}.\".format(recovery_table_name))\n",
        "      # Construct the restore-from table ID using a snapshot decorator.\n",
        "    snapshot_table_id = \"{}@{}\".format(table_id, snapshot_epoch)\n",
        "\n",
        "    # Construct and run a copy job.\n",
        "    job = client.copy_table(\n",
        "        snapshot_table_id,\n",
        "        recovered_table_id,\n",
        "        # Must match the source and destination tables location.\n",
        "        location=\"US\",\n",
        "    )  # Make an API request.\n",
        "\n",
        "    job.result()  # Wait for the job to complete.\n",
        "\n",
        "    print(\n",
        "        \"Copied data from deleted table {} to {}\".format(table_id, recovered_table_id)\n",
        "    )\n"
      ],
      "execution_count": 56,
      "outputs": []
    },
    {
      "cell_type": "markdown",
      "metadata": {
        "id": "NdJEyFHykIV8"
      },
      "source": [
        "**Snapshot Test**\n",
        "\n",
        "1. Verify project contents\n",
        "2. Create a snapshot\n",
        "3. Delete \"train\" table\n",
        "4. Revert snapshot with new name \"train2\"\n",
        "5. Verify project contents"
      ]
    },
    {
      "cell_type": "code",
      "metadata": {
        "colab": {
          "base_uri": "https://localhost:8080/"
        },
        "id": "-ZLpj1QRiD1q",
        "outputId": "e31f7d9b-a0ec-471d-e2e3-10dde0d491df"
      },
      "source": [
        "# Verify project contents\n",
        "listBQProjectElements(PROJECT_ID)\n",
        "\n",
        "# Create a snapshot\n",
        "print(\"\\nTimestamp for snapshot:\")\n",
        "train_snapshot_4_28_2021_17_11 = createTableSnapshot(train_id)"
      ],
      "execution_count": 57,
      "outputs": [
        {
          "output_type": "stream",
          "text": [
            "Project: kaggle-colab-4-26\n",
            "Datasets: titanic\n",
            "\t\tTables: train\n",
            "\n",
            "Timestamp for snapshot:\n",
            "1620312882589\n"
          ],
          "name": "stdout"
        }
      ]
    },
    {
      "cell_type": "code",
      "metadata": {
        "colab": {
          "base_uri": "https://localhost:8080/"
        },
        "id": "WPj13A1hitD4",
        "outputId": "93242121-8d9f-45bd-ae20-e79842d53f71"
      },
      "source": [
        "# Delete \"train\" table\n",
        "deleteTable(titanic_ref, \"train\")\n",
        "\n",
        "\n",
        "# Revert snapshot with new name \"train2\"\n",
        "print(\"\\n\")\n",
        "revertTableToSnapshot(titanic_id, train_id, train_snapshot_4_28_2021_17_11, \"train2\")\n",
        "\n",
        "# Verify project contents\n",
        "print(\"\\n\")\n",
        "listBQProjectElements(PROJECT_ID)"
      ],
      "execution_count": 58,
      "outputs": [
        {
          "output_type": "stream",
          "text": [
            "Table train exists.\n",
            "Table train has been deleted.\n",
            "\n",
            "\n",
            "Table does not already exist. Recovering train2.\n",
            "Copied data from deleted table kaggle-colab-4-26.titanic.train to kaggle-colab-4-26.titanic.train2\n",
            "\n",
            "\n",
            "Project: kaggle-colab-4-26\n",
            "Datasets: titanic\n",
            "\t\tTables: train2\n"
          ],
          "name": "stdout"
        }
      ]
    },
    {
      "cell_type": "markdown",
      "metadata": {
        "id": "J5inIRGslGGc"
      },
      "source": [
        "After verifying, the name can be reverted.  The only other method I'm aware of is to copy to a new dataset and/or table."
      ]
    },
    {
      "cell_type": "code",
      "metadata": {
        "colab": {
          "base_uri": "https://localhost:8080/"
        },
        "id": "DQ1DgRdQi2EB",
        "outputId": "cb0eaf0b-5a48-4d27-87ff-a77cc63a3f5f"
      },
      "source": [
        "deleteTable(titanic_ref, \"train2\")\n",
        "\n",
        "# recheck datasets\n",
        "print(\"\\n\")\n",
        "listBQProjectElements(PROJECT_ID)\n",
        "\n",
        "# revert with original name\n",
        "print(\"\\n\")\n",
        "revertTableToSnapshot(titanic_id, train_id, train_snapshot_4_28_2021_17_11, \"train\")\n",
        "\n",
        "# recheck datasets\n",
        "print(\"\\n\")\n",
        "listBQProjectElements(PROJECT_ID)"
      ],
      "execution_count": 59,
      "outputs": [
        {
          "output_type": "stream",
          "text": [
            "Table train2 exists.\n",
            "Table train2 has been deleted.\n",
            "\n",
            "\n",
            "Project: kaggle-colab-4-26\n",
            "Datasets: titanic\n",
            "\n",
            "\n",
            "Table does not already exist. Recovering train.\n",
            "Copied data from deleted table kaggle-colab-4-26.titanic.train to kaggle-colab-4-26.titanic.train\n",
            "\n",
            "\n",
            "Project: kaggle-colab-4-26\n",
            "Datasets: titanic\n",
            "\t\tTables: train\n"
          ],
          "name": "stdout"
        }
      ]
    },
    {
      "cell_type": "markdown",
      "metadata": {
        "id": "KZ-ur_1JEkdc"
      },
      "source": [
        "# Accessing Data"
      ]
    },
    {
      "cell_type": "markdown",
      "metadata": {
        "id": "hSgNFRMxmSxA"
      },
      "source": [
        "## Run A Query As An API Request Using Standard SQL\n",
        "\n",
        "https://googleapis.dev/python/bigquery/latest/index.html"
      ]
    },
    {
      "cell_type": "code",
      "metadata": {
        "id": "Qf0wMmVAIjSH",
        "colab": {
          "base_uri": "https://localhost:8080/",
          "height": 204
        },
        "outputId": "ad4c54a6-cf16-4bff-98cc-8740e07913aa"
      },
      "source": [
        "query = f\"\"\"\n",
        "SELECT *\n",
        "FROM {PROJECT_ID}.titanic.train\n",
        "\"\"\"\n",
        "query_job = client.query(query)\n",
        "df1 = query_job.to_dataframe()\n",
        "print(df1.shape)\n",
        "df1.head()"
      ],
      "execution_count": 60,
      "outputs": [
        {
          "output_type": "stream",
          "text": [
            "(891, 12)\n"
          ],
          "name": "stdout"
        },
        {
          "output_type": "execute_result",
          "data": {
            "application/vnd.google.colaboratory.module+javascript": "\n      import \"https://ssl.gstatic.com/colaboratory/data_table/a6224c040fa35dcf/data_table.js\";\n\n      window.createDataTable({\n        data: [[{\n            'v': 0,\n            'f': \"0\",\n        },\n{\n            'v': 180,\n            'f': \"180\",\n        },\n{\n            'v': 0,\n            'f': \"0\",\n        },\n{\n            'v': 3,\n            'f': \"3\",\n        },\n\"Leonard, Mr. Lionel\",\n\"male\",\n{\n            'v': 36.0,\n            'f': \"36.0\",\n        },\n{\n            'v': 0,\n            'f': \"0\",\n        },\n{\n            'v': 0,\n            'f': \"0\",\n        },\n\"LINE\",\n{\n            'v': 0.0,\n            'f': \"0.0\",\n        },\nnull,\n\"S\"],\n [{\n            'v': 1,\n            'f': \"1\",\n        },\n{\n            'v': 264,\n            'f': \"264\",\n        },\n{\n            'v': 0,\n            'f': \"0\",\n        },\n{\n            'v': 1,\n            'f': \"1\",\n        },\n\"Harrison, Mr. William\",\n\"male\",\n{\n            'v': 40.0,\n            'f': \"40.0\",\n        },\n{\n            'v': 0,\n            'f': \"0\",\n        },\n{\n            'v': 0,\n            'f': \"0\",\n        },\n\"112059\",\n{\n            'v': 0.0,\n            'f': \"0.0\",\n        },\n\"B94\",\n\"S\"],\n [{\n            'v': 2,\n            'f': \"2\",\n        },\n{\n            'v': 278,\n            'f': \"278\",\n        },\n{\n            'v': 0,\n            'f': \"0\",\n        },\n{\n            'v': 2,\n            'f': \"2\",\n        },\n\"Parkes, Mr. Francis \\\"Frank\\\"\",\n\"male\",\n{\n            'v': NaN,\n            'f': \"NaN\",\n        },\n{\n            'v': 0,\n            'f': \"0\",\n        },\n{\n            'v': 0,\n            'f': \"0\",\n        },\n\"239853\",\n{\n            'v': 0.0,\n            'f': \"0.0\",\n        },\nnull,\n\"S\"],\n [{\n            'v': 3,\n            'f': \"3\",\n        },\n{\n            'v': 303,\n            'f': \"303\",\n        },\n{\n            'v': 0,\n            'f': \"0\",\n        },\n{\n            'v': 3,\n            'f': \"3\",\n        },\n\"Johnson, Mr. William Cahoone Jr\",\n\"male\",\n{\n            'v': 19.0,\n            'f': \"19.0\",\n        },\n{\n            'v': 0,\n            'f': \"0\",\n        },\n{\n            'v': 0,\n            'f': \"0\",\n        },\n\"LINE\",\n{\n            'v': 0.0,\n            'f': \"0.0\",\n        },\nnull,\n\"S\"],\n [{\n            'v': 4,\n            'f': \"4\",\n        },\n{\n            'v': 414,\n            'f': \"414\",\n        },\n{\n            'v': 0,\n            'f': \"0\",\n        },\n{\n            'v': 2,\n            'f': \"2\",\n        },\n\"Cunningham, Mr. Alfred Fleming\",\n\"male\",\n{\n            'v': NaN,\n            'f': \"NaN\",\n        },\n{\n            'v': 0,\n            'f': \"0\",\n        },\n{\n            'v': 0,\n            'f': \"0\",\n        },\n\"239853\",\n{\n            'v': 0.0,\n            'f': \"0.0\",\n        },\nnull,\n\"S\"]],\n        columns: [[\"number\", \"index\"], [\"number\", \"PassengerId\"], [\"number\", \"Survived\"], [\"number\", \"Pclass\"], [\"string\", \"Name\"], [\"string\", \"Sex\"], [\"number\", \"Age\"], [\"number\", \"SibSp\"], [\"number\", \"Parch\"], [\"string\", \"Ticket\"], [\"number\", \"Fare\"], [\"string\", \"Cabin\"], [\"string\", \"Embarked\"]],\n        columnOptions: [{\"width\": \"1px\", \"className\": \"index_column\"}],\n        rowsPerPage: 25,\n        helpUrl: \"https://colab.research.google.com/notebooks/data_table.ipynb\",\n        suppressOutputScrolling: true,\n        minimumWidth: undefined,\n      });\n    ",
            "text/html": [
              "<div>\n",
              "<style scoped>\n",
              "    .dataframe tbody tr th:only-of-type {\n",
              "        vertical-align: middle;\n",
              "    }\n",
              "\n",
              "    .dataframe tbody tr th {\n",
              "        vertical-align: top;\n",
              "    }\n",
              "\n",
              "    .dataframe thead th {\n",
              "        text-align: right;\n",
              "    }\n",
              "</style>\n",
              "<table border=\"1\" class=\"dataframe\">\n",
              "  <thead>\n",
              "    <tr style=\"text-align: right;\">\n",
              "      <th></th>\n",
              "      <th>PassengerId</th>\n",
              "      <th>Survived</th>\n",
              "      <th>Pclass</th>\n",
              "      <th>Name</th>\n",
              "      <th>Sex</th>\n",
              "      <th>Age</th>\n",
              "      <th>SibSp</th>\n",
              "      <th>Parch</th>\n",
              "      <th>Ticket</th>\n",
              "      <th>Fare</th>\n",
              "      <th>Cabin</th>\n",
              "      <th>Embarked</th>\n",
              "    </tr>\n",
              "  </thead>\n",
              "  <tbody>\n",
              "    <tr>\n",
              "      <th>0</th>\n",
              "      <td>180</td>\n",
              "      <td>0</td>\n",
              "      <td>3</td>\n",
              "      <td>Leonard, Mr. Lionel</td>\n",
              "      <td>male</td>\n",
              "      <td>36.0</td>\n",
              "      <td>0</td>\n",
              "      <td>0</td>\n",
              "      <td>LINE</td>\n",
              "      <td>0.0</td>\n",
              "      <td>None</td>\n",
              "      <td>S</td>\n",
              "    </tr>\n",
              "    <tr>\n",
              "      <th>1</th>\n",
              "      <td>264</td>\n",
              "      <td>0</td>\n",
              "      <td>1</td>\n",
              "      <td>Harrison, Mr. William</td>\n",
              "      <td>male</td>\n",
              "      <td>40.0</td>\n",
              "      <td>0</td>\n",
              "      <td>0</td>\n",
              "      <td>112059</td>\n",
              "      <td>0.0</td>\n",
              "      <td>B94</td>\n",
              "      <td>S</td>\n",
              "    </tr>\n",
              "    <tr>\n",
              "      <th>2</th>\n",
              "      <td>278</td>\n",
              "      <td>0</td>\n",
              "      <td>2</td>\n",
              "      <td>Parkes, Mr. Francis \"Frank\"</td>\n",
              "      <td>male</td>\n",
              "      <td>NaN</td>\n",
              "      <td>0</td>\n",
              "      <td>0</td>\n",
              "      <td>239853</td>\n",
              "      <td>0.0</td>\n",
              "      <td>None</td>\n",
              "      <td>S</td>\n",
              "    </tr>\n",
              "    <tr>\n",
              "      <th>3</th>\n",
              "      <td>303</td>\n",
              "      <td>0</td>\n",
              "      <td>3</td>\n",
              "      <td>Johnson, Mr. William Cahoone Jr</td>\n",
              "      <td>male</td>\n",
              "      <td>19.0</td>\n",
              "      <td>0</td>\n",
              "      <td>0</td>\n",
              "      <td>LINE</td>\n",
              "      <td>0.0</td>\n",
              "      <td>None</td>\n",
              "      <td>S</td>\n",
              "    </tr>\n",
              "    <tr>\n",
              "      <th>4</th>\n",
              "      <td>414</td>\n",
              "      <td>0</td>\n",
              "      <td>2</td>\n",
              "      <td>Cunningham, Mr. Alfred Fleming</td>\n",
              "      <td>male</td>\n",
              "      <td>NaN</td>\n",
              "      <td>0</td>\n",
              "      <td>0</td>\n",
              "      <td>239853</td>\n",
              "      <td>0.0</td>\n",
              "      <td>None</td>\n",
              "      <td>S</td>\n",
              "    </tr>\n",
              "  </tbody>\n",
              "</table>\n",
              "</div>"
            ],
            "text/plain": [
              "   PassengerId  Survived  Pclass  ... Fare Cabin  Embarked\n",
              "0          180         0       3  ...  0.0  None         S\n",
              "1          264         0       1  ...  0.0   B94         S\n",
              "2          278         0       2  ...  0.0  None         S\n",
              "3          303         0       3  ...  0.0  None         S\n",
              "4          414         0       2  ...  0.0  None         S\n",
              "\n",
              "[5 rows x 12 columns]"
            ]
          },
          "metadata": {
            "tags": []
          },
          "execution_count": 60
        }
      ]
    },
    {
      "cell_type": "code",
      "metadata": {
        "id": "mNr8dWhBIwhU"
      },
      "source": [
        ""
      ],
      "execution_count": 60,
      "outputs": []
    },
    {
      "cell_type": "code",
      "metadata": {
        "colab": {
          "base_uri": "https://localhost:8080/",
          "height": 186
        },
        "id": "UK5HETDaJ5Ed",
        "outputId": "155f295a-500f-4617-928a-3626c1fe6f97"
      },
      "source": [
        "df1.sort_values('Fare', ascending=False).head()"
      ],
      "execution_count": 61,
      "outputs": [
        {
          "output_type": "execute_result",
          "data": {
            "application/vnd.google.colaboratory.module+javascript": "\n      import \"https://ssl.gstatic.com/colaboratory/data_table/a6224c040fa35dcf/data_table.js\";\n\n      window.createDataTable({\n        data: [[{\n            'v': 847,\n            'f': \"847\",\n        },\n{\n            'v': 738,\n            'f': \"738\",\n        },\n{\n            'v': 1,\n            'f': \"1\",\n        },\n{\n            'v': 1,\n            'f': \"1\",\n        },\n\"Lesurer, Mr. Gustave J\",\n\"male\",\n{\n            'v': 35.0,\n            'f': \"35.0\",\n        },\n{\n            'v': 0,\n            'f': \"0\",\n        },\n{\n            'v': 0,\n            'f': \"0\",\n        },\n\"PC 17755\",\n{\n            'v': 512.3292,\n            'f': \"512.3292\",\n        },\n\"B101\",\n\"C\"],\n [{\n            'v': 845,\n            'f': \"845\",\n        },\n{\n            'v': 259,\n            'f': \"259\",\n        },\n{\n            'v': 1,\n            'f': \"1\",\n        },\n{\n            'v': 1,\n            'f': \"1\",\n        },\n\"Ward, Miss. Anna\",\n\"female\",\n{\n            'v': 35.0,\n            'f': \"35.0\",\n        },\n{\n            'v': 0,\n            'f': \"0\",\n        },\n{\n            'v': 0,\n            'f': \"0\",\n        },\n\"PC 17755\",\n{\n            'v': 512.3292,\n            'f': \"512.3292\",\n        },\nnull,\n\"C\"],\n [{\n            'v': 846,\n            'f': \"846\",\n        },\n{\n            'v': 680,\n            'f': \"680\",\n        },\n{\n            'v': 1,\n            'f': \"1\",\n        },\n{\n            'v': 1,\n            'f': \"1\",\n        },\n\"Cardeza, Mr. Thomas Drake Martinez\",\n\"male\",\n{\n            'v': 36.0,\n            'f': \"36.0\",\n        },\n{\n            'v': 0,\n            'f': \"0\",\n        },\n{\n            'v': 1,\n            'f': \"1\",\n        },\n\"PC 17755\",\n{\n            'v': 512.3292,\n            'f': \"512.3292\",\n        },\n\"B51 B53 B55\",\n\"C\"],\n [{\n            'v': 174,\n            'f': \"174\",\n        },\n{\n            'v': 28,\n            'f': \"28\",\n        },\n{\n            'v': 0,\n            'f': \"0\",\n        },\n{\n            'v': 1,\n            'f': \"1\",\n        },\n\"Fortune, Mr. Charles Alexander\",\n\"male\",\n{\n            'v': 19.0,\n            'f': \"19.0\",\n        },\n{\n            'v': 3,\n            'f': \"3\",\n        },\n{\n            'v': 2,\n            'f': \"2\",\n        },\n\"19950\",\n{\n            'v': 263.0,\n            'f': \"263.0\",\n        },\n\"C23 C25 C27\",\n\"S\"],\n [{\n            'v': 175,\n            'f': \"175\",\n        },\n{\n            'v': 439,\n            'f': \"439\",\n        },\n{\n            'v': 0,\n            'f': \"0\",\n        },\n{\n            'v': 1,\n            'f': \"1\",\n        },\n\"Fortune, Mr. Mark\",\n\"male\",\n{\n            'v': 64.0,\n            'f': \"64.0\",\n        },\n{\n            'v': 1,\n            'f': \"1\",\n        },\n{\n            'v': 4,\n            'f': \"4\",\n        },\n\"19950\",\n{\n            'v': 263.0,\n            'f': \"263.0\",\n        },\n\"C23 C25 C27\",\n\"S\"]],\n        columns: [[\"number\", \"index\"], [\"number\", \"PassengerId\"], [\"number\", \"Survived\"], [\"number\", \"Pclass\"], [\"string\", \"Name\"], [\"string\", \"Sex\"], [\"number\", \"Age\"], [\"number\", \"SibSp\"], [\"number\", \"Parch\"], [\"string\", \"Ticket\"], [\"number\", \"Fare\"], [\"string\", \"Cabin\"], [\"string\", \"Embarked\"]],\n        columnOptions: [{\"width\": \"1px\", \"className\": \"index_column\"}],\n        rowsPerPage: 25,\n        helpUrl: \"https://colab.research.google.com/notebooks/data_table.ipynb\",\n        suppressOutputScrolling: true,\n        minimumWidth: undefined,\n      });\n    ",
            "text/html": [
              "<div>\n",
              "<style scoped>\n",
              "    .dataframe tbody tr th:only-of-type {\n",
              "        vertical-align: middle;\n",
              "    }\n",
              "\n",
              "    .dataframe tbody tr th {\n",
              "        vertical-align: top;\n",
              "    }\n",
              "\n",
              "    .dataframe thead th {\n",
              "        text-align: right;\n",
              "    }\n",
              "</style>\n",
              "<table border=\"1\" class=\"dataframe\">\n",
              "  <thead>\n",
              "    <tr style=\"text-align: right;\">\n",
              "      <th></th>\n",
              "      <th>PassengerId</th>\n",
              "      <th>Survived</th>\n",
              "      <th>Pclass</th>\n",
              "      <th>Name</th>\n",
              "      <th>Sex</th>\n",
              "      <th>Age</th>\n",
              "      <th>SibSp</th>\n",
              "      <th>Parch</th>\n",
              "      <th>Ticket</th>\n",
              "      <th>Fare</th>\n",
              "      <th>Cabin</th>\n",
              "      <th>Embarked</th>\n",
              "    </tr>\n",
              "  </thead>\n",
              "  <tbody>\n",
              "    <tr>\n",
              "      <th>847</th>\n",
              "      <td>738</td>\n",
              "      <td>1</td>\n",
              "      <td>1</td>\n",
              "      <td>Lesurer, Mr. Gustave J</td>\n",
              "      <td>male</td>\n",
              "      <td>35.0</td>\n",
              "      <td>0</td>\n",
              "      <td>0</td>\n",
              "      <td>PC 17755</td>\n",
              "      <td>512.3292</td>\n",
              "      <td>B101</td>\n",
              "      <td>C</td>\n",
              "    </tr>\n",
              "    <tr>\n",
              "      <th>845</th>\n",
              "      <td>259</td>\n",
              "      <td>1</td>\n",
              "      <td>1</td>\n",
              "      <td>Ward, Miss. Anna</td>\n",
              "      <td>female</td>\n",
              "      <td>35.0</td>\n",
              "      <td>0</td>\n",
              "      <td>0</td>\n",
              "      <td>PC 17755</td>\n",
              "      <td>512.3292</td>\n",
              "      <td>None</td>\n",
              "      <td>C</td>\n",
              "    </tr>\n",
              "    <tr>\n",
              "      <th>846</th>\n",
              "      <td>680</td>\n",
              "      <td>1</td>\n",
              "      <td>1</td>\n",
              "      <td>Cardeza, Mr. Thomas Drake Martinez</td>\n",
              "      <td>male</td>\n",
              "      <td>36.0</td>\n",
              "      <td>0</td>\n",
              "      <td>1</td>\n",
              "      <td>PC 17755</td>\n",
              "      <td>512.3292</td>\n",
              "      <td>B51 B53 B55</td>\n",
              "      <td>C</td>\n",
              "    </tr>\n",
              "    <tr>\n",
              "      <th>174</th>\n",
              "      <td>28</td>\n",
              "      <td>0</td>\n",
              "      <td>1</td>\n",
              "      <td>Fortune, Mr. Charles Alexander</td>\n",
              "      <td>male</td>\n",
              "      <td>19.0</td>\n",
              "      <td>3</td>\n",
              "      <td>2</td>\n",
              "      <td>19950</td>\n",
              "      <td>263.0000</td>\n",
              "      <td>C23 C25 C27</td>\n",
              "      <td>S</td>\n",
              "    </tr>\n",
              "    <tr>\n",
              "      <th>175</th>\n",
              "      <td>439</td>\n",
              "      <td>0</td>\n",
              "      <td>1</td>\n",
              "      <td>Fortune, Mr. Mark</td>\n",
              "      <td>male</td>\n",
              "      <td>64.0</td>\n",
              "      <td>1</td>\n",
              "      <td>4</td>\n",
              "      <td>19950</td>\n",
              "      <td>263.0000</td>\n",
              "      <td>C23 C25 C27</td>\n",
              "      <td>S</td>\n",
              "    </tr>\n",
              "  </tbody>\n",
              "</table>\n",
              "</div>"
            ],
            "text/plain": [
              "     PassengerId  Survived  Pclass  ...      Fare        Cabin  Embarked\n",
              "847          738         1       1  ...  512.3292         B101         C\n",
              "845          259         1       1  ...  512.3292         None         C\n",
              "846          680         1       1  ...  512.3292  B51 B53 B55         C\n",
              "174           28         0       1  ...  263.0000  C23 C25 C27         S\n",
              "175          439         0       1  ...  263.0000  C23 C25 C27         S\n",
              "\n",
              "[5 rows x 12 columns]"
            ]
          },
          "metadata": {
            "tags": []
          },
          "execution_count": 61
        }
      ]
    },
    {
      "cell_type": "markdown",
      "metadata": {
        "id": "M0K-BAtAI-dl"
      },
      "source": [
        "## Run Query Using gbq And Pandas\n",
        "https://cloud.google.com/bigquery/docs/pandas-gbq-migration"
      ]
    },
    {
      "cell_type": "code",
      "metadata": {
        "colab": {
          "base_uri": "https://localhost:8080/",
          "height": 186
        },
        "id": "4r8Kw8D3JCou",
        "outputId": "bd365ef0-1284-4da4-f26b-f49c0a5aecb2"
      },
      "source": [
        "df2 = pd.io.gbq.read_gbq('''\n",
        "  SELECT Name, SUM(Fare) As total\n",
        "  FROM `kaggle-colab-4-26.titanic.train`\n",
        "  GROUP BY Name\n",
        "  ORDER BY total DESC\n",
        "''', project_id=PROJECT_ID, dialect='standard')\n",
        "\n",
        "df2.head()"
      ],
      "execution_count": 62,
      "outputs": [
        {
          "output_type": "execute_result",
          "data": {
            "application/vnd.google.colaboratory.module+javascript": "\n      import \"https://ssl.gstatic.com/colaboratory/data_table/a6224c040fa35dcf/data_table.js\";\n\n      window.createDataTable({\n        data: [[{\n            'v': 0,\n            'f': \"0\",\n        },\n\"Ward, Miss. Anna\",\n{\n            'v': 512.3292,\n            'f': \"512.3292\",\n        }],\n [{\n            'v': 1,\n            'f': \"1\",\n        },\n\"Cardeza, Mr. Thomas Drake Martinez\",\n{\n            'v': 512.3292,\n            'f': \"512.3292\",\n        }],\n [{\n            'v': 2,\n            'f': \"2\",\n        },\n\"Lesurer, Mr. Gustave J\",\n{\n            'v': 512.3292,\n            'f': \"512.3292\",\n        }],\n [{\n            'v': 3,\n            'f': \"3\",\n        },\n\"Fortune, Mr. Charles Alexander\",\n{\n            'v': 263.0,\n            'f': \"263.0\",\n        }],\n [{\n            'v': 4,\n            'f': \"4\",\n        },\n\"Fortune, Mr. Mark\",\n{\n            'v': 263.0,\n            'f': \"263.0\",\n        }]],\n        columns: [[\"number\", \"index\"], [\"string\", \"Name\"], [\"number\", \"total\"]],\n        columnOptions: [{\"width\": \"1px\", \"className\": \"index_column\"}],\n        rowsPerPage: 25,\n        helpUrl: \"https://colab.research.google.com/notebooks/data_table.ipynb\",\n        suppressOutputScrolling: true,\n        minimumWidth: undefined,\n      });\n    ",
            "text/html": [
              "<div>\n",
              "<style scoped>\n",
              "    .dataframe tbody tr th:only-of-type {\n",
              "        vertical-align: middle;\n",
              "    }\n",
              "\n",
              "    .dataframe tbody tr th {\n",
              "        vertical-align: top;\n",
              "    }\n",
              "\n",
              "    .dataframe thead th {\n",
              "        text-align: right;\n",
              "    }\n",
              "</style>\n",
              "<table border=\"1\" class=\"dataframe\">\n",
              "  <thead>\n",
              "    <tr style=\"text-align: right;\">\n",
              "      <th></th>\n",
              "      <th>Name</th>\n",
              "      <th>total</th>\n",
              "    </tr>\n",
              "  </thead>\n",
              "  <tbody>\n",
              "    <tr>\n",
              "      <th>0</th>\n",
              "      <td>Ward, Miss. Anna</td>\n",
              "      <td>512.3292</td>\n",
              "    </tr>\n",
              "    <tr>\n",
              "      <th>1</th>\n",
              "      <td>Cardeza, Mr. Thomas Drake Martinez</td>\n",
              "      <td>512.3292</td>\n",
              "    </tr>\n",
              "    <tr>\n",
              "      <th>2</th>\n",
              "      <td>Lesurer, Mr. Gustave J</td>\n",
              "      <td>512.3292</td>\n",
              "    </tr>\n",
              "    <tr>\n",
              "      <th>3</th>\n",
              "      <td>Fortune, Mr. Charles Alexander</td>\n",
              "      <td>263.0000</td>\n",
              "    </tr>\n",
              "    <tr>\n",
              "      <th>4</th>\n",
              "      <td>Fortune, Mr. Mark</td>\n",
              "      <td>263.0000</td>\n",
              "    </tr>\n",
              "  </tbody>\n",
              "</table>\n",
              "</div>"
            ],
            "text/plain": [
              "                                 Name     total\n",
              "0                    Ward, Miss. Anna  512.3292\n",
              "1  Cardeza, Mr. Thomas Drake Martinez  512.3292\n",
              "2              Lesurer, Mr. Gustave J  512.3292\n",
              "3      Fortune, Mr. Charles Alexander  263.0000\n",
              "4                   Fortune, Mr. Mark  263.0000"
            ]
          },
          "metadata": {
            "tags": []
          },
          "execution_count": 62
        }
      ]
    },
    {
      "cell_type": "markdown",
      "metadata": {
        "id": "Pf7McTA-S6IL"
      },
      "source": [
        "## Paging Through Tables\n",
        "\n",
        "https://cloud.google.com/bigquery/docs/paging-results"
      ]
    },
    {
      "cell_type": "code",
      "metadata": {
        "colab": {
          "base_uri": "https://localhost:8080/",
          "height": 186
        },
        "id": "J_812oI6TF-L",
        "outputId": "5e8ded68-7d4b-493e-d78e-dcf52fc5e656"
      },
      "source": [
        "client.list_rows(train_fqid, selected_fields=train_fqid.schema[:3], max_results=5).to_dataframe()"
      ],
      "execution_count": 63,
      "outputs": [
        {
          "output_type": "execute_result",
          "data": {
            "application/vnd.google.colaboratory.module+javascript": "\n      import \"https://ssl.gstatic.com/colaboratory/data_table/a6224c040fa35dcf/data_table.js\";\n\n      window.createDataTable({\n        data: [[{\n            'v': 0,\n            'f': \"0\",\n        },\n{\n            'v': 180,\n            'f': \"180\",\n        },\n{\n            'v': 0,\n            'f': \"0\",\n        },\n{\n            'v': 3,\n            'f': \"3\",\n        }],\n [{\n            'v': 1,\n            'f': \"1\",\n        },\n{\n            'v': 264,\n            'f': \"264\",\n        },\n{\n            'v': 0,\n            'f': \"0\",\n        },\n{\n            'v': 1,\n            'f': \"1\",\n        }],\n [{\n            'v': 2,\n            'f': \"2\",\n        },\n{\n            'v': 278,\n            'f': \"278\",\n        },\n{\n            'v': 0,\n            'f': \"0\",\n        },\n{\n            'v': 2,\n            'f': \"2\",\n        }],\n [{\n            'v': 3,\n            'f': \"3\",\n        },\n{\n            'v': 303,\n            'f': \"303\",\n        },\n{\n            'v': 0,\n            'f': \"0\",\n        },\n{\n            'v': 3,\n            'f': \"3\",\n        }],\n [{\n            'v': 4,\n            'f': \"4\",\n        },\n{\n            'v': 414,\n            'f': \"414\",\n        },\n{\n            'v': 0,\n            'f': \"0\",\n        },\n{\n            'v': 2,\n            'f': \"2\",\n        }]],\n        columns: [[\"number\", \"index\"], [\"number\", \"PassengerId\"], [\"number\", \"Survived\"], [\"number\", \"Pclass\"]],\n        columnOptions: [{\"width\": \"1px\", \"className\": \"index_column\"}],\n        rowsPerPage: 25,\n        helpUrl: \"https://colab.research.google.com/notebooks/data_table.ipynb\",\n        suppressOutputScrolling: true,\n        minimumWidth: undefined,\n      });\n    ",
            "text/html": [
              "<div>\n",
              "<style scoped>\n",
              "    .dataframe tbody tr th:only-of-type {\n",
              "        vertical-align: middle;\n",
              "    }\n",
              "\n",
              "    .dataframe tbody tr th {\n",
              "        vertical-align: top;\n",
              "    }\n",
              "\n",
              "    .dataframe thead th {\n",
              "        text-align: right;\n",
              "    }\n",
              "</style>\n",
              "<table border=\"1\" class=\"dataframe\">\n",
              "  <thead>\n",
              "    <tr style=\"text-align: right;\">\n",
              "      <th></th>\n",
              "      <th>PassengerId</th>\n",
              "      <th>Survived</th>\n",
              "      <th>Pclass</th>\n",
              "    </tr>\n",
              "  </thead>\n",
              "  <tbody>\n",
              "    <tr>\n",
              "      <th>0</th>\n",
              "      <td>180</td>\n",
              "      <td>0</td>\n",
              "      <td>3</td>\n",
              "    </tr>\n",
              "    <tr>\n",
              "      <th>1</th>\n",
              "      <td>264</td>\n",
              "      <td>0</td>\n",
              "      <td>1</td>\n",
              "    </tr>\n",
              "    <tr>\n",
              "      <th>2</th>\n",
              "      <td>278</td>\n",
              "      <td>0</td>\n",
              "      <td>2</td>\n",
              "    </tr>\n",
              "    <tr>\n",
              "      <th>3</th>\n",
              "      <td>303</td>\n",
              "      <td>0</td>\n",
              "      <td>3</td>\n",
              "    </tr>\n",
              "    <tr>\n",
              "      <th>4</th>\n",
              "      <td>414</td>\n",
              "      <td>0</td>\n",
              "      <td>2</td>\n",
              "    </tr>\n",
              "  </tbody>\n",
              "</table>\n",
              "</div>"
            ],
            "text/plain": [
              "   PassengerId  Survived  Pclass\n",
              "0          180         0       3\n",
              "1          264         0       1\n",
              "2          278         0       2\n",
              "3          303         0       3\n",
              "4          414         0       2"
            ]
          },
          "metadata": {
            "tags": []
          },
          "execution_count": 63
        }
      ]
    },
    {
      "cell_type": "markdown",
      "metadata": {
        "id": "7ruhiC9ogLUo"
      },
      "source": [
        "# Big Query Public Dataset Exploration - Stack Overflow Dataset\n"
      ]
    },
    {
      "cell_type": "markdown",
      "metadata": {
        "id": "8yT93d38jVbF"
      },
      "source": [
        "List all tables from dataset"
      ]
    },
    {
      "cell_type": "code",
      "metadata": {
        "id": "RvgRbTHJjlfK"
      },
      "source": [
        "# def listBQProjectElements(project_id):\n",
        "\n",
        "#   project = client.project\n",
        "#   datasets = client.list_datasets()\n",
        "\n",
        "#   # List datasets given project\n",
        "#   if datasets:\n",
        "#     print(\"Project: {}\".format(project))\n",
        "#     for dataset in datasets:\n",
        "#       print(\"Datasets: {}\".format(dataset.dataset_id))\n",
        "#       tables = client.list_tables(dataset.dataset_id)\n",
        "#       for table in tables:\n",
        "#         print(\"\\t\\tTables: {}\".format(table.table_id))\n",
        "#   else:\n",
        "#     print(\"{} project does not contain any datasets\".format(project))"
      ],
      "execution_count": 64,
      "outputs": []
    },
    {
      "cell_type": "code",
      "metadata": {
        "colab": {
          "base_uri": "https://localhost:8080/",
          "height": 1000
        },
        "id": "o-unfD81jm6i",
        "outputId": "b2029acb-e2e2-4a14-aaea-97480f740e1b"
      },
      "source": [
        "dataset_ref = client.dataset(\"stackoverflow\", project=\"bigquery-public-data\")\n",
        "dataset = client.get_dataset(dataset_ref)\n",
        "tables = list(client.list_tables(dataset))\n",
        "\n",
        "for table in tables:\n",
        "  print(table.table_id)\n",
        "  table_ref = client.get_table(table)\n",
        "  print(table_ref.num_rows)\n",
        "  print(table_ref.description)\n",
        "  display(table_ref.schema)\n"
      ],
      "execution_count": 65,
      "outputs": [
        {
          "output_type": "stream",
          "text": [
            "badges\n",
            "39178976\n",
            "None\n"
          ],
          "name": "stdout"
        },
        {
          "output_type": "display_data",
          "data": {
            "text/plain": [
              "[SchemaField('id', 'INTEGER', 'NULLABLE', None, ()),\n",
              " SchemaField('name', 'STRING', 'NULLABLE', None, ()),\n",
              " SchemaField('date', 'TIMESTAMP', 'NULLABLE', None, ()),\n",
              " SchemaField('user_id', 'INTEGER', 'NULLABLE', None, ()),\n",
              " SchemaField('class', 'INTEGER', 'NULLABLE', None, ()),\n",
              " SchemaField('tag_based', 'BOOLEAN', 'NULLABLE', None, ())]"
            ]
          },
          "metadata": {
            "tags": []
          }
        },
        {
          "output_type": "stream",
          "text": [
            "comments\n",
            "79220809\n",
            "None\n"
          ],
          "name": "stdout"
        },
        {
          "output_type": "display_data",
          "data": {
            "text/plain": [
              "[SchemaField('id', 'INTEGER', 'NULLABLE', None, ()),\n",
              " SchemaField('text', 'STRING', 'NULLABLE', None, ()),\n",
              " SchemaField('creation_date', 'TIMESTAMP', 'NULLABLE', None, ()),\n",
              " SchemaField('post_id', 'INTEGER', 'NULLABLE', None, ()),\n",
              " SchemaField('user_id', 'INTEGER', 'NULLABLE', None, ()),\n",
              " SchemaField('user_display_name', 'STRING', 'NULLABLE', None, ()),\n",
              " SchemaField('score', 'INTEGER', 'NULLABLE', None, ())]"
            ]
          },
          "metadata": {
            "tags": []
          }
        },
        {
          "output_type": "stream",
          "text": [
            "post_history\n",
            "138808451\n",
            "None\n"
          ],
          "name": "stdout"
        },
        {
          "output_type": "display_data",
          "data": {
            "text/plain": [
              "[SchemaField('id', 'INTEGER', 'NULLABLE', None, ()),\n",
              " SchemaField('creation_date', 'TIMESTAMP', 'NULLABLE', None, ()),\n",
              " SchemaField('post_id', 'INTEGER', 'NULLABLE', None, ()),\n",
              " SchemaField('post_history_type_id', 'INTEGER', 'NULLABLE', None, ()),\n",
              " SchemaField('revision_guid', 'STRING', 'NULLABLE', None, ()),\n",
              " SchemaField('user_id', 'INTEGER', 'NULLABLE', None, ()),\n",
              " SchemaField('text', 'STRING', 'NULLABLE', None, ()),\n",
              " SchemaField('comment', 'STRING', 'NULLABLE', None, ())]"
            ]
          },
          "metadata": {
            "tags": []
          }
        },
        {
          "output_type": "stream",
          "text": [
            "post_links\n",
            "7302589\n",
            "None\n"
          ],
          "name": "stdout"
        },
        {
          "output_type": "display_data",
          "data": {
            "text/plain": [
              "[SchemaField('id', 'INTEGER', 'NULLABLE', None, ()),\n",
              " SchemaField('creation_date', 'TIMESTAMP', 'NULLABLE', None, ()),\n",
              " SchemaField('link_type_id', 'INTEGER', 'NULLABLE', None, ()),\n",
              " SchemaField('post_id', 'INTEGER', 'NULLABLE', None, ()),\n",
              " SchemaField('related_post_id', 'INTEGER', 'NULLABLE', None, ())]"
            ]
          },
          "metadata": {
            "tags": []
          }
        },
        {
          "output_type": "stream",
          "text": [
            "posts_answers\n",
            "31169429\n",
            "None\n"
          ],
          "name": "stdout"
        },
        {
          "output_type": "display_data",
          "data": {
            "text/plain": [
              "[SchemaField('id', 'INTEGER', 'NULLABLE', None, ()),\n",
              " SchemaField('title', 'STRING', 'NULLABLE', None, ()),\n",
              " SchemaField('body', 'STRING', 'NULLABLE', None, ()),\n",
              " SchemaField('accepted_answer_id', 'STRING', 'NULLABLE', None, ()),\n",
              " SchemaField('answer_count', 'STRING', 'NULLABLE', None, ()),\n",
              " SchemaField('comment_count', 'INTEGER', 'NULLABLE', None, ()),\n",
              " SchemaField('community_owned_date', 'TIMESTAMP', 'NULLABLE', None, ()),\n",
              " SchemaField('creation_date', 'TIMESTAMP', 'NULLABLE', None, ()),\n",
              " SchemaField('favorite_count', 'STRING', 'NULLABLE', None, ()),\n",
              " SchemaField('last_activity_date', 'TIMESTAMP', 'NULLABLE', None, ()),\n",
              " SchemaField('last_edit_date', 'TIMESTAMP', 'NULLABLE', None, ()),\n",
              " SchemaField('last_editor_display_name', 'STRING', 'NULLABLE', None, ()),\n",
              " SchemaField('last_editor_user_id', 'INTEGER', 'NULLABLE', None, ()),\n",
              " SchemaField('owner_display_name', 'STRING', 'NULLABLE', None, ()),\n",
              " SchemaField('owner_user_id', 'INTEGER', 'NULLABLE', None, ()),\n",
              " SchemaField('parent_id', 'INTEGER', 'NULLABLE', None, ()),\n",
              " SchemaField('post_type_id', 'INTEGER', 'NULLABLE', None, ()),\n",
              " SchemaField('score', 'INTEGER', 'NULLABLE', None, ()),\n",
              " SchemaField('tags', 'STRING', 'NULLABLE', None, ()),\n",
              " SchemaField('view_count', 'STRING', 'NULLABLE', None, ())]"
            ]
          },
          "metadata": {
            "tags": []
          }
        },
        {
          "output_type": "stream",
          "text": [
            "posts_moderator_nomination\n",
            "334\n",
            "None\n"
          ],
          "name": "stdout"
        },
        {
          "output_type": "display_data",
          "data": {
            "text/plain": [
              "[SchemaField('id', 'INTEGER', 'NULLABLE', None, ()),\n",
              " SchemaField('title', 'STRING', 'NULLABLE', None, ()),\n",
              " SchemaField('body', 'STRING', 'NULLABLE', None, ()),\n",
              " SchemaField('accepted_answer_id', 'STRING', 'NULLABLE', None, ()),\n",
              " SchemaField('answer_count', 'STRING', 'NULLABLE', None, ()),\n",
              " SchemaField('comment_count', 'INTEGER', 'NULLABLE', None, ()),\n",
              " SchemaField('community_owned_date', 'TIMESTAMP', 'NULLABLE', None, ()),\n",
              " SchemaField('creation_date', 'TIMESTAMP', 'NULLABLE', None, ()),\n",
              " SchemaField('favorite_count', 'STRING', 'NULLABLE', None, ()),\n",
              " SchemaField('last_activity_date', 'TIMESTAMP', 'NULLABLE', None, ()),\n",
              " SchemaField('last_edit_date', 'TIMESTAMP', 'NULLABLE', None, ()),\n",
              " SchemaField('last_editor_display_name', 'STRING', 'NULLABLE', None, ()),\n",
              " SchemaField('last_editor_user_id', 'INTEGER', 'NULLABLE', None, ()),\n",
              " SchemaField('owner_display_name', 'STRING', 'NULLABLE', None, ()),\n",
              " SchemaField('owner_user_id', 'INTEGER', 'NULLABLE', None, ()),\n",
              " SchemaField('parent_id', 'STRING', 'NULLABLE', None, ()),\n",
              " SchemaField('post_type_id', 'INTEGER', 'NULLABLE', None, ()),\n",
              " SchemaField('score', 'INTEGER', 'NULLABLE', None, ()),\n",
              " SchemaField('tags', 'STRING', 'NULLABLE', None, ()),\n",
              " SchemaField('view_count', 'STRING', 'NULLABLE', None, ())]"
            ]
          },
          "metadata": {
            "tags": []
          }
        },
        {
          "output_type": "stream",
          "text": [
            "posts_orphaned_tag_wiki\n",
            "167\n",
            "None\n"
          ],
          "name": "stdout"
        },
        {
          "output_type": "display_data",
          "data": {
            "text/plain": [
              "[SchemaField('id', 'INTEGER', 'NULLABLE', None, ()),\n",
              " SchemaField('title', 'STRING', 'NULLABLE', None, ()),\n",
              " SchemaField('body', 'STRING', 'NULLABLE', None, ()),\n",
              " SchemaField('accepted_answer_id', 'STRING', 'NULLABLE', None, ()),\n",
              " SchemaField('answer_count', 'STRING', 'NULLABLE', None, ()),\n",
              " SchemaField('comment_count', 'INTEGER', 'NULLABLE', None, ()),\n",
              " SchemaField('community_owned_date', 'TIMESTAMP', 'NULLABLE', None, ()),\n",
              " SchemaField('creation_date', 'TIMESTAMP', 'NULLABLE', None, ()),\n",
              " SchemaField('favorite_count', 'STRING', 'NULLABLE', None, ()),\n",
              " SchemaField('last_activity_date', 'TIMESTAMP', 'NULLABLE', None, ()),\n",
              " SchemaField('last_edit_date', 'TIMESTAMP', 'NULLABLE', None, ()),\n",
              " SchemaField('last_editor_display_name', 'STRING', 'NULLABLE', None, ()),\n",
              " SchemaField('last_editor_user_id', 'INTEGER', 'NULLABLE', None, ()),\n",
              " SchemaField('owner_display_name', 'STRING', 'NULLABLE', None, ()),\n",
              " SchemaField('owner_user_id', 'INTEGER', 'NULLABLE', None, ()),\n",
              " SchemaField('parent_id', 'STRING', 'NULLABLE', None, ()),\n",
              " SchemaField('post_type_id', 'INTEGER', 'NULLABLE', None, ()),\n",
              " SchemaField('score', 'INTEGER', 'NULLABLE', None, ()),\n",
              " SchemaField('tags', 'STRING', 'NULLABLE', None, ()),\n",
              " SchemaField('view_count', 'STRING', 'NULLABLE', None, ())]"
            ]
          },
          "metadata": {
            "tags": []
          }
        },
        {
          "output_type": "stream",
          "text": [
            "posts_privilege_wiki\n",
            "2\n",
            "None\n"
          ],
          "name": "stdout"
        },
        {
          "output_type": "display_data",
          "data": {
            "text/plain": [
              "[SchemaField('id', 'INTEGER', 'NULLABLE', None, ()),\n",
              " SchemaField('title', 'STRING', 'NULLABLE', None, ()),\n",
              " SchemaField('body', 'STRING', 'NULLABLE', None, ()),\n",
              " SchemaField('accepted_answer_id', 'STRING', 'NULLABLE', None, ()),\n",
              " SchemaField('answer_count', 'STRING', 'NULLABLE', None, ()),\n",
              " SchemaField('comment_count', 'INTEGER', 'NULLABLE', None, ()),\n",
              " SchemaField('community_owned_date', 'STRING', 'NULLABLE', None, ()),\n",
              " SchemaField('creation_date', 'TIMESTAMP', 'NULLABLE', None, ()),\n",
              " SchemaField('favorite_count', 'STRING', 'NULLABLE', None, ()),\n",
              " SchemaField('last_activity_date', 'TIMESTAMP', 'NULLABLE', None, ()),\n",
              " SchemaField('last_edit_date', 'TIMESTAMP', 'NULLABLE', None, ()),\n",
              " SchemaField('last_editor_display_name', 'STRING', 'NULLABLE', None, ()),\n",
              " SchemaField('last_editor_user_id', 'INTEGER', 'NULLABLE', None, ()),\n",
              " SchemaField('owner_display_name', 'STRING', 'NULLABLE', None, ()),\n",
              " SchemaField('owner_user_id', 'INTEGER', 'NULLABLE', None, ()),\n",
              " SchemaField('parent_id', 'STRING', 'NULLABLE', None, ()),\n",
              " SchemaField('post_type_id', 'INTEGER', 'NULLABLE', None, ()),\n",
              " SchemaField('score', 'INTEGER', 'NULLABLE', None, ()),\n",
              " SchemaField('tags', 'STRING', 'NULLABLE', None, ()),\n",
              " SchemaField('view_count', 'STRING', 'NULLABLE', None, ())]"
            ]
          },
          "metadata": {
            "tags": []
          }
        },
        {
          "output_type": "stream",
          "text": [
            "posts_questions\n",
            "20890054\n",
            "None\n"
          ],
          "name": "stdout"
        },
        {
          "output_type": "display_data",
          "data": {
            "text/plain": [
              "[SchemaField('id', 'INTEGER', 'NULLABLE', None, ()),\n",
              " SchemaField('title', 'STRING', 'NULLABLE', None, ()),\n",
              " SchemaField('body', 'STRING', 'NULLABLE', None, ()),\n",
              " SchemaField('accepted_answer_id', 'INTEGER', 'NULLABLE', None, ()),\n",
              " SchemaField('answer_count', 'INTEGER', 'NULLABLE', None, ()),\n",
              " SchemaField('comment_count', 'INTEGER', 'NULLABLE', None, ()),\n",
              " SchemaField('community_owned_date', 'TIMESTAMP', 'NULLABLE', None, ()),\n",
              " SchemaField('creation_date', 'TIMESTAMP', 'NULLABLE', None, ()),\n",
              " SchemaField('favorite_count', 'INTEGER', 'NULLABLE', None, ()),\n",
              " SchemaField('last_activity_date', 'TIMESTAMP', 'NULLABLE', None, ()),\n",
              " SchemaField('last_edit_date', 'TIMESTAMP', 'NULLABLE', None, ()),\n",
              " SchemaField('last_editor_display_name', 'STRING', 'NULLABLE', None, ()),\n",
              " SchemaField('last_editor_user_id', 'INTEGER', 'NULLABLE', None, ()),\n",
              " SchemaField('owner_display_name', 'STRING', 'NULLABLE', None, ()),\n",
              " SchemaField('owner_user_id', 'INTEGER', 'NULLABLE', None, ()),\n",
              " SchemaField('parent_id', 'STRING', 'NULLABLE', None, ()),\n",
              " SchemaField('post_type_id', 'INTEGER', 'NULLABLE', None, ()),\n",
              " SchemaField('score', 'INTEGER', 'NULLABLE', None, ()),\n",
              " SchemaField('tags', 'STRING', 'NULLABLE', None, ()),\n",
              " SchemaField('view_count', 'INTEGER', 'NULLABLE', None, ())]"
            ]
          },
          "metadata": {
            "tags": []
          }
        },
        {
          "output_type": "stream",
          "text": [
            "posts_tag_wiki\n",
            "53036\n",
            "None\n"
          ],
          "name": "stdout"
        },
        {
          "output_type": "display_data",
          "data": {
            "text/plain": [
              "[SchemaField('id', 'INTEGER', 'NULLABLE', None, ()),\n",
              " SchemaField('title', 'STRING', 'NULLABLE', None, ()),\n",
              " SchemaField('body', 'STRING', 'NULLABLE', None, ()),\n",
              " SchemaField('accepted_answer_id', 'STRING', 'NULLABLE', None, ()),\n",
              " SchemaField('answer_count', 'STRING', 'NULLABLE', None, ()),\n",
              " SchemaField('comment_count', 'INTEGER', 'NULLABLE', None, ()),\n",
              " SchemaField('community_owned_date', 'TIMESTAMP', 'NULLABLE', None, ()),\n",
              " SchemaField('creation_date', 'TIMESTAMP', 'NULLABLE', None, ()),\n",
              " SchemaField('favorite_count', 'STRING', 'NULLABLE', None, ()),\n",
              " SchemaField('last_activity_date', 'TIMESTAMP', 'NULLABLE', None, ()),\n",
              " SchemaField('last_edit_date', 'TIMESTAMP', 'NULLABLE', None, ()),\n",
              " SchemaField('last_editor_display_name', 'STRING', 'NULLABLE', None, ()),\n",
              " SchemaField('last_editor_user_id', 'INTEGER', 'NULLABLE', None, ()),\n",
              " SchemaField('owner_display_name', 'STRING', 'NULLABLE', None, ()),\n",
              " SchemaField('owner_user_id', 'INTEGER', 'NULLABLE', None, ()),\n",
              " SchemaField('parent_id', 'STRING', 'NULLABLE', None, ()),\n",
              " SchemaField('post_type_id', 'INTEGER', 'NULLABLE', None, ()),\n",
              " SchemaField('score', 'INTEGER', 'NULLABLE', None, ()),\n",
              " SchemaField('tags', 'STRING', 'NULLABLE', None, ()),\n",
              " SchemaField('view_count', 'STRING', 'NULLABLE', None, ())]"
            ]
          },
          "metadata": {
            "tags": []
          }
        },
        {
          "output_type": "stream",
          "text": [
            "posts_tag_wiki_excerpt\n",
            "53036\n",
            "None\n"
          ],
          "name": "stdout"
        },
        {
          "output_type": "display_data",
          "data": {
            "text/plain": [
              "[SchemaField('id', 'INTEGER', 'NULLABLE', None, ()),\n",
              " SchemaField('title', 'STRING', 'NULLABLE', None, ()),\n",
              " SchemaField('body', 'STRING', 'NULLABLE', None, ()),\n",
              " SchemaField('accepted_answer_id', 'STRING', 'NULLABLE', None, ()),\n",
              " SchemaField('answer_count', 'STRING', 'NULLABLE', None, ()),\n",
              " SchemaField('comment_count', 'INTEGER', 'NULLABLE', None, ()),\n",
              " SchemaField('community_owned_date', 'TIMESTAMP', 'NULLABLE', None, ()),\n",
              " SchemaField('creation_date', 'TIMESTAMP', 'NULLABLE', None, ()),\n",
              " SchemaField('favorite_count', 'STRING', 'NULLABLE', None, ()),\n",
              " SchemaField('last_activity_date', 'TIMESTAMP', 'NULLABLE', None, ()),\n",
              " SchemaField('last_edit_date', 'TIMESTAMP', 'NULLABLE', None, ()),\n",
              " SchemaField('last_editor_display_name', 'STRING', 'NULLABLE', None, ()),\n",
              " SchemaField('last_editor_user_id', 'INTEGER', 'NULLABLE', None, ()),\n",
              " SchemaField('owner_display_name', 'STRING', 'NULLABLE', None, ()),\n",
              " SchemaField('owner_user_id', 'INTEGER', 'NULLABLE', None, ()),\n",
              " SchemaField('parent_id', 'STRING', 'NULLABLE', None, ()),\n",
              " SchemaField('post_type_id', 'INTEGER', 'NULLABLE', None, ()),\n",
              " SchemaField('score', 'INTEGER', 'NULLABLE', None, ()),\n",
              " SchemaField('tags', 'STRING', 'NULLABLE', None, ()),\n",
              " SchemaField('view_count', 'STRING', 'NULLABLE', None, ())]"
            ]
          },
          "metadata": {
            "tags": []
          }
        },
        {
          "output_type": "stream",
          "text": [
            "posts_wiki_placeholder\n",
            "5\n",
            "None\n"
          ],
          "name": "stdout"
        },
        {
          "output_type": "display_data",
          "data": {
            "text/plain": [
              "[SchemaField('id', 'INTEGER', 'NULLABLE', None, ()),\n",
              " SchemaField('title', 'STRING', 'NULLABLE', None, ()),\n",
              " SchemaField('body', 'STRING', 'NULLABLE', None, ()),\n",
              " SchemaField('accepted_answer_id', 'STRING', 'NULLABLE', None, ()),\n",
              " SchemaField('answer_count', 'STRING', 'NULLABLE', None, ()),\n",
              " SchemaField('comment_count', 'INTEGER', 'NULLABLE', None, ()),\n",
              " SchemaField('community_owned_date', 'STRING', 'NULLABLE', None, ()),\n",
              " SchemaField('creation_date', 'TIMESTAMP', 'NULLABLE', None, ()),\n",
              " SchemaField('favorite_count', 'STRING', 'NULLABLE', None, ()),\n",
              " SchemaField('last_activity_date', 'TIMESTAMP', 'NULLABLE', None, ()),\n",
              " SchemaField('last_edit_date', 'TIMESTAMP', 'NULLABLE', None, ()),\n",
              " SchemaField('last_editor_display_name', 'STRING', 'NULLABLE', None, ()),\n",
              " SchemaField('last_editor_user_id', 'INTEGER', 'NULLABLE', None, ()),\n",
              " SchemaField('owner_display_name', 'STRING', 'NULLABLE', None, ()),\n",
              " SchemaField('owner_user_id', 'INTEGER', 'NULLABLE', None, ()),\n",
              " SchemaField('parent_id', 'STRING', 'NULLABLE', None, ()),\n",
              " SchemaField('post_type_id', 'INTEGER', 'NULLABLE', None, ()),\n",
              " SchemaField('score', 'INTEGER', 'NULLABLE', None, ()),\n",
              " SchemaField('tags', 'STRING', 'NULLABLE', None, ()),\n",
              " SchemaField('view_count', 'STRING', 'NULLABLE', None, ())]"
            ]
          },
          "metadata": {
            "tags": []
          }
        },
        {
          "output_type": "stream",
          "text": [
            "stackoverflow_posts\n",
            "31017889\n",
            "Don't use this table - use posts_* instead\n"
          ],
          "name": "stdout"
        },
        {
          "output_type": "display_data",
          "data": {
            "text/plain": [
              "[SchemaField('id', 'INTEGER', 'REQUIRED', None, ()),\n",
              " SchemaField('title', 'STRING', 'NULLABLE', None, ()),\n",
              " SchemaField('body', 'STRING', 'NULLABLE', None, ()),\n",
              " SchemaField('accepted_answer_id', 'INTEGER', 'NULLABLE', None, ()),\n",
              " SchemaField('answer_count', 'INTEGER', 'NULLABLE', None, ()),\n",
              " SchemaField('comment_count', 'INTEGER', 'NULLABLE', None, ()),\n",
              " SchemaField('community_owned_date', 'TIMESTAMP', 'NULLABLE', None, ()),\n",
              " SchemaField('creation_date', 'TIMESTAMP', 'NULLABLE', None, ()),\n",
              " SchemaField('favorite_count', 'INTEGER', 'NULLABLE', None, ()),\n",
              " SchemaField('last_activity_date', 'TIMESTAMP', 'NULLABLE', None, ()),\n",
              " SchemaField('last_edit_date', 'TIMESTAMP', 'NULLABLE', None, ()),\n",
              " SchemaField('last_editor_display_name', 'STRING', 'NULLABLE', None, ()),\n",
              " SchemaField('last_editor_user_id', 'INTEGER', 'NULLABLE', None, ()),\n",
              " SchemaField('owner_display_name', 'STRING', 'NULLABLE', None, ()),\n",
              " SchemaField('owner_user_id', 'INTEGER', 'NULLABLE', None, ()),\n",
              " SchemaField('parent_id', 'INTEGER', 'NULLABLE', None, ()),\n",
              " SchemaField('post_type_id', 'INTEGER', 'NULLABLE', None, ()),\n",
              " SchemaField('score', 'INTEGER', 'NULLABLE', None, ()),\n",
              " SchemaField('tags', 'STRING', 'NULLABLE', None, ()),\n",
              " SchemaField('view_count', 'INTEGER', 'NULLABLE', None, ())]"
            ]
          },
          "metadata": {
            "tags": []
          }
        },
        {
          "output_type": "stream",
          "text": [
            "tags\n",
            "60534\n",
            "None\n"
          ],
          "name": "stdout"
        },
        {
          "output_type": "display_data",
          "data": {
            "text/plain": [
              "[SchemaField('id', 'INTEGER', 'NULLABLE', None, ()),\n",
              " SchemaField('tag_name', 'STRING', 'NULLABLE', None, ()),\n",
              " SchemaField('count', 'INTEGER', 'NULLABLE', None, ()),\n",
              " SchemaField('excerpt_post_id', 'INTEGER', 'NULLABLE', None, ()),\n",
              " SchemaField('wiki_post_id', 'INTEGER', 'NULLABLE', None, ())]"
            ]
          },
          "metadata": {
            "tags": []
          }
        },
        {
          "output_type": "stream",
          "text": [
            "users\n",
            "14080580\n",
            "None\n"
          ],
          "name": "stdout"
        },
        {
          "output_type": "display_data",
          "data": {
            "text/plain": [
              "[SchemaField('id', 'INTEGER', 'NULLABLE', None, ()),\n",
              " SchemaField('display_name', 'STRING', 'NULLABLE', None, ()),\n",
              " SchemaField('about_me', 'STRING', 'NULLABLE', None, ()),\n",
              " SchemaField('age', 'STRING', 'NULLABLE', None, ()),\n",
              " SchemaField('creation_date', 'TIMESTAMP', 'NULLABLE', None, ()),\n",
              " SchemaField('last_access_date', 'TIMESTAMP', 'NULLABLE', None, ()),\n",
              " SchemaField('location', 'STRING', 'NULLABLE', None, ()),\n",
              " SchemaField('reputation', 'INTEGER', 'NULLABLE', None, ()),\n",
              " SchemaField('up_votes', 'INTEGER', 'NULLABLE', None, ()),\n",
              " SchemaField('down_votes', 'INTEGER', 'NULLABLE', None, ()),\n",
              " SchemaField('views', 'INTEGER', 'NULLABLE', None, ()),\n",
              " SchemaField('profile_image_url', 'STRING', 'NULLABLE', None, ()),\n",
              " SchemaField('website_url', 'STRING', 'NULLABLE', None, ())]"
            ]
          },
          "metadata": {
            "tags": []
          }
        },
        {
          "output_type": "stream",
          "text": [
            "votes\n",
            "208557841\n",
            "None\n"
          ],
          "name": "stdout"
        },
        {
          "output_type": "display_data",
          "data": {
            "text/plain": [
              "[SchemaField('id', 'INTEGER', 'NULLABLE', None, ()),\n",
              " SchemaField('creation_date', 'TIMESTAMP', 'NULLABLE', None, ()),\n",
              " SchemaField('post_id', 'INTEGER', 'NULLABLE', None, ()),\n",
              " SchemaField('vote_type_id', 'INTEGER', 'NULLABLE', None, ())]"
            ]
          },
          "metadata": {
            "tags": []
          }
        }
      ]
    },
    {
      "cell_type": "markdown",
      "metadata": {
        "id": "Wynf2LMYpP4_"
      },
      "source": [
        "Tables to investigate: Valuable columns<br>\n",
        "- badges: date, name, user_id, class\n",
        "- post_history: id, date, user_id, text\n",
        "- post_answers: id, body, creation_date, score\n",
        "- posts_questions: id, title, body, aceepted_answer_id, answer_count, comment_count, creation_date, favorit_count, score, tags, view_count\n",
        "- posts_tag_wiki\n",
        "- posts_tag_wiki_excerpt\n",
        "- tags: id, count, excerpt_post_id, wiki_post_id\n",
        "- users: id, reputation, up_votes, down_votes, website_url\n"
      ]
    },
    {
      "cell_type": "markdown",
      "metadata": {
        "id": "3DIDRGXHDoQJ"
      },
      "source": [
        "## Posts Answers"
      ]
    },
    {
      "cell_type": "code",
      "metadata": {
        "id": "0JyfzdrHgBv1"
      },
      "source": [
        "# so_posts_answers_count = pd.io.gbq.read_gbq('''\n",
        "#   SELECT COUNT(*)\n",
        "#   FROM `bigquery-public-data.stackoverflow.posts_answers` \n",
        "#   WHERE creation_date BETWEEN TIMESTAMP(\"2020-04-01\") AND TIMESTAMP(\"2021-04-01\")\n",
        "#   LIMIT 1000\n",
        "# ;\n",
        "# ''', project_id=PROJECT_ID, dialect='standard')\n",
        "\n",
        "# display(so_posts_answers_count.head())\n",
        "\n",
        "# so_posts_answers_df = pd.io.gbq.read_gbq('''\n",
        "#   SELECT *\n",
        "#   FROM `bigquery-public-data.stackoverflow.posts_answers` \n",
        "#   WHERE creation_date BETWEEN TIMESTAMP(\"2020-04-01\") AND TIMESTAMP(\"2021-04-01\")\n",
        "#   LIMIT 1000\n",
        "# ;\n",
        "# ''', project_id=PROJECT_ID, dialect='standard')\n",
        "\n",
        "# so_posts_answers_df.head(1)"
      ],
      "execution_count": 66,
      "outputs": []
    },
    {
      "cell_type": "code",
      "metadata": {
        "colab": {
          "base_uri": "https://localhost:8080/",
          "height": 165
        },
        "id": "8wzAIEpOcJaR",
        "outputId": "82bca7f2-f2cb-4595-d763-b5e9ad110eb3"
      },
      "source": [
        "so_posts_answers_df.describe()"
      ],
      "execution_count": 67,
      "outputs": [
        {
          "output_type": "error",
          "ename": "NameError",
          "evalue": "ignored",
          "traceback": [
            "\u001b[0;31m---------------------------------------------------------------------------\u001b[0m",
            "\u001b[0;31mNameError\u001b[0m                                 Traceback (most recent call last)",
            "\u001b[0;32m<ipython-input-67-58b9ee0dd022>\u001b[0m in \u001b[0;36m<module>\u001b[0;34m()\u001b[0m\n\u001b[0;32m----> 1\u001b[0;31m \u001b[0mso_posts_answers_df\u001b[0m\u001b[0;34m.\u001b[0m\u001b[0mdescribe\u001b[0m\u001b[0;34m(\u001b[0m\u001b[0;34m)\u001b[0m\u001b[0;34m\u001b[0m\u001b[0;34m\u001b[0m\u001b[0m\n\u001b[0m",
            "\u001b[0;31mNameError\u001b[0m: name 'so_posts_answers_df' is not defined"
          ]
        }
      ]
    },
    {
      "cell_type": "code",
      "metadata": {
        "id": "G8Csddz8Gd5q"
      },
      "source": [
        "so_posts_answers_df.isna().sum()"
      ],
      "execution_count": null,
      "outputs": []
    },
    {
      "cell_type": "markdown",
      "metadata": {
        "id": "IauielmLDt3I"
      },
      "source": [
        "## Posts Questions"
      ]
    },
    {
      "cell_type": "code",
      "metadata": {
        "id": "2AhHayeZgqEZ"
      },
      "source": [
        "# so_posts_questions_count = pd.io.gbq.read_gbq('''\n",
        "#   SELECT COUNT(*)\n",
        "#   FROM `bigquery-public-data.stackoverflow.posts_questions` \n",
        "#   WHERE creation_date BETWEEN TIMESTAMP(\"2020-04-01\") AND TIMESTAMP(\"2021-04-01\")\n",
        "#   LIMIT 1000\n",
        "# ;\n",
        "# ''', project_id=PROJECT_ID, dialect='standard')\n",
        "\n",
        "# display(so_posts_questions_count.head())\n",
        "\n",
        "# so_posts_questions_df = pd.io.gbq.read_gbq('''\n",
        "#   SELECT *\n",
        "#   FROM `bigquery-public-data.stackoverflow.posts_questions` \n",
        "#   WHERE creation_date BETWEEN TIMESTAMP(\"2020-04-01\") AND TIMESTAMP(\"2021-04-01\")\n",
        "#   LIMIT 1000\n",
        "# ;\n",
        "# ''', project_id=PROJECT_ID, dialect='standard')\n",
        "\n",
        "# so_posts_questions_df.head(1)"
      ],
      "execution_count": null,
      "outputs": []
    },
    {
      "cell_type": "code",
      "metadata": {
        "id": "4UUNoxeAEQBg"
      },
      "source": [
        "so_posts_questions_df.describe()"
      ],
      "execution_count": null,
      "outputs": []
    },
    {
      "cell_type": "code",
      "metadata": {
        "id": "kpi5pwR_5fU4"
      },
      "source": [
        "so_posts_questions_df.isna().sum()"
      ],
      "execution_count": null,
      "outputs": []
    },
    {
      "cell_type": "markdown",
      "metadata": {
        "id": "5ZoDPgYxD3ag"
      },
      "source": [
        "## Questions and Answers min/max between April '16 and April '21 \n",
        "For all questions that have an accepted answer"
      ]
    },
    {
      "cell_type": "code",
      "metadata": {
        "id": "isxmPKD7iz8q"
      },
      "source": [
        "# so_QA_min_max = pd.io.gbq.read_gbq('''\n",
        "#  SELECT\n",
        "#     MIN(pq.view_count) AS q_min_views, MAX(pq.view_count) AS q_max_views, \n",
        "#     MIN(pq.score) AS q_min_score, MAX(pq.score) AS q_max_score,\n",
        "#     MIN(pq.favorite_count) AS q_min_fav, MAX(pq.favorite_count) AS q_max_fav, \n",
        "#     MIN(pq.answer_count) AS q_min_answers, MAX(pq.answer_count) AS q_max_answers,\n",
        "#     MIN(pq.comment_count) AS q_min_comment_count, MAX(pq.comment_count) AS q_max_comment_count, \n",
        "\n",
        "#     MIN(pa.view_count) AS a_min_views, MAX(pa.view_count) AS a_max_views, \n",
        "#     MIN(pa.score) AS a_min_score, MAX(pa.score) AS a_max_score,\n",
        "#     MIN(pa.comment_count) AS a_min_comment_count, MAX(pa.comment_count) AS a_max_comment_count, \n",
        "# FROM `bigquery-public-data.stackoverflow.posts_questions` AS pq\n",
        "# JOIN `bigquery-public-data.stackoverflow.posts_answers` AS pa ON pq.accepted_answer_id = pa.id\n",
        "# WHERE pq.creation_date BETWEEN TIMESTAMP(\"2016-04-01\") AND TIMESTAMP(\"2021-04-01\")\n",
        "# ;\n",
        "# ''', project_id=PROJECT_ID, dialect='standard')\n",
        "\n",
        "# so_QA_min_max"
      ],
      "execution_count": null,
      "outputs": []
    },
    {
      "cell_type": "markdown",
      "metadata": {
        "id": "nZWMO_dYpbBg"
      },
      "source": [
        "## <font color='red'>Questions With Accepted Answers (JOINED)</font>\n"
      ]
    },
    {
      "cell_type": "code",
      "metadata": {
        "id": "LQM36zrY2AQl"
      },
      "source": [
        "\n",
        "\n",
        "# so_posts_QA_df = pd.io.gbq.read_gbq('''\n",
        "# SELECT pq.title, pq.body AS post_question, pa.body AS post_answer, pq.answer_count AS question_answers, \n",
        "#         pq.comment_count AS question_comments, pa.comment_count AS answer_comments, pq.creation_date, pq.last_activity_date, \n",
        "#         pq.score AS question_score, pa.score AS answer_score, pq.tags, pq.view_count AS question_view_count\n",
        "# FROM `bigquery-public-data.stackoverflow.posts_answers` AS pa\n",
        "# INNER JOIN (\n",
        "#     SELECT *\n",
        "#     FROM `bigquery-public-data.stackoverflow.posts_questions`\n",
        "#     WHERE accepted_answer_id IS NOT NULL\n",
        "#     AND creation_date BETWEEN TIMESTAMP(\"2016-04-01\") AND TIMESTAMP(\"2021-04-01\")\n",
        "# ) AS pq ON pa.id = pq.accepted_answer_id\n",
        "# WHERE RAND() < 200000 / 4362034\n",
        "\n",
        "# -- can also join to find the owner of the answer\n",
        "# ;\n",
        "# ''', dialect='standard')\n",
        "\n",
        "# so_posts_QA_df.head(2)"
      ],
      "execution_count": null,
      "outputs": []
    },
    {
      "cell_type": "code",
      "metadata": {
        "id": "VLga22vh2cQL"
      },
      "source": [
        "so_posts_QA_df.isna().sum()"
      ],
      "execution_count": null,
      "outputs": []
    },
    {
      "cell_type": "code",
      "metadata": {
        "id": "7LYZP34calwT"
      },
      "source": [
        "so_posts_QA_df.shape\n",
        "so_posts_QA_df['question_score'].describe()\n",
        "so_posts_QA_df.info()"
      ],
      "execution_count": null,
      "outputs": []
    },
    {
      "cell_type": "markdown",
      "metadata": {
        "id": "rBx7gkLB0hV0"
      },
      "source": [
        "### Saving dataframes as parquet and feather formats "
      ]
    },
    {
      "cell_type": "code",
      "metadata": {
        "id": "XzL2rUMUwKD5"
      },
      "source": [
        "# Navigate to google drive location\n",
        "\n",
        "os.chdir('/content/drive/MyDrive/Kaggle/bq-4-26/stackoverflow')\n",
        "!ls"
      ],
      "execution_count": null,
      "outputs": []
    },
    {
      "cell_type": "code",
      "metadata": {
        "id": "RgQyVPDLv8gI"
      },
      "source": [
        "# Save file as parquet\n",
        "#so_posts_QA_df.to_parquet('so_posts_QA_df.parquet.gzip', compression='gzip')\n",
        "\n",
        "so_posts_QA_df.to_parquet('so_posts_QA_parquet.parquet.gzip', compression='gzip')\n",
        "\n",
        "# Save file as feather\n",
        "so_posts_QA_df.to_feather('so_posts_QA_feather')"
      ],
      "execution_count": null,
      "outputs": []
    },
    {
      "cell_type": "code",
      "metadata": {
        "id": "AcBSaUsMyNDz"
      },
      "source": [
        "# Read back parquet file and verify column types\n",
        "\n",
        "so_posts_QA = pd.read_parquet('so_posts_QA_parquet.parquet.gzip')\n",
        "so_posts_QA.info()"
      ],
      "execution_count": null,
      "outputs": []
    },
    {
      "cell_type": "code",
      "metadata": {
        "id": "5Fzpqy5a0Ath"
      },
      "source": [
        "# read back feather file and verify column types\n",
        "\n",
        "so_posts_QA_feather_df = pd.read_feather('so_posts_QA_feather')\n",
        "so_posts_QA_feather_df.info()"
      ],
      "execution_count": null,
      "outputs": []
    },
    {
      "cell_type": "markdown",
      "metadata": {
        "id": "2kIJFXMa3NQC"
      },
      "source": [
        "### Distribution of numerical values \n",
        "- question_answers\n",
        "- question_comments\n",
        "- answer_comments\n",
        "- question_score\n",
        "- answer_score\n",
        "- question_view_count"
      ]
    },
    {
      "cell_type": "code",
      "metadata": {
        "id": "gjjJMJVW5vlt"
      },
      "source": [
        "# Count Plot\n",
        "\n",
        "\n",
        "plt.figure(figsize=(15,10))\n",
        "sns.countplot(x='answer_score', data=so_posts_QA_df)\n",
        "plt.yscale(\"log\")\n",
        "plt.xscale(\"linear\")\n",
        "plt.xlim(-25, 250)\n",
        "ticks = range(-24, 300, 15)\n",
        "plt.xticks(ticks)\n",
        "plt.show()\n"
      ],
      "execution_count": null,
      "outputs": []
    },
    {
      "cell_type": "code",
      "metadata": {
        "id": "GN7JS7XfzO5r"
      },
      "source": [
        "plt.figure()\n",
        "sns.kdeplot(so_posts_QA_df[\"answer_score\"])\n",
        "plt.yscale(\"log\")\n",
        "plt.show()"
      ],
      "execution_count": null,
      "outputs": []
    },
    {
      "cell_type": "code",
      "metadata": {
        "id": "hCcsdHgs0A2x"
      },
      "source": [
        "plt.figure()\n",
        "sns.countplot(x='answer_score', data=so_posts_QA_df)\n",
        "plt.yscale(\"log\")\n",
        "plt.xscale(\"log\")\n",
        "plt.show()"
      ],
      "execution_count": null,
      "outputs": []
    },
    {
      "cell_type": "code",
      "metadata": {
        "id": "sA6XIaNW4TxW"
      },
      "source": [
        "# subplots of all cont features in so_posts_QA_df\n",
        "\n",
        "cont_features = ['question_answers', 'question_view_count', 'question_comments', 'answer_comments', 'question_score', 'answer_score']\n",
        "plt.subplots(3,2, figsize=(10,15))\n",
        "plt.suptitle('distribution of continuous features')\n",
        "\n",
        "for i, col in enumerate(cont_features, 1):\n",
        "  plt.subplot(3,2,i)\n",
        "  sns.countplot(x=so_posts_QA_df[col])\n",
        "  xrange = range(so_posts_QA_df[col].min(), so_posts_QA_df[col].max(), round((so_posts_QA_df[col].max()-so_posts_QA_df[col].min())/15) )\n",
        "  plt.title(col)\n",
        "  plt.xticks(xrange)\n",
        "  plt.yscale(\"log\")\n",
        "plt.tight_layout\n",
        "plt.show()"
      ],
      "execution_count": null,
      "outputs": []
    },
    {
      "cell_type": "markdown",
      "metadata": {
        "id": "ybxxrQGLD7bA"
      },
      "source": [
        "## Posts Tag Wiki Excerpt"
      ]
    },
    {
      "cell_type": "code",
      "metadata": {
        "id": "Gc4uyr0em3u9"
      },
      "source": [
        "# so_posts_tag_wiki_excerpt_count = pd.io.gbq.read_gbq('''\n",
        "#   SELECT COUNT(*) as full_count\n",
        "#   FROM `bigquery-public-data.stackoverflow.posts_tag_wiki_excerpt` \n",
        "# ;\n",
        "# ''', project_id=PROJECT_ID, dialect='standard')\n",
        "\n",
        "# display(so_posts_tag_wiki_excerpt_count.head())\n",
        "\n",
        "# so_posts_tag_wiki_excerpt_df = pd.io.gbq.read_gbq('''\n",
        "#   SELECT *\n",
        "#   FROM `bigquery-public-data.stackoverflow.posts_tag_wiki_excerpt` \n",
        "#   WHERE creation_date BETWEEN TIMESTAMP(\"2020-04-01\") AND TIMESTAMP(\"2021-04-01\")\n",
        "#   LIMIT 1000\n",
        "# ;\n",
        "# ''', project_id=PROJECT_ID, dialect='standard')\n",
        "\n",
        "# so_posts_tag_wiki_excerpt_df.head(1)"
      ],
      "execution_count": null,
      "outputs": []
    },
    {
      "cell_type": "code",
      "metadata": {
        "id": "X3dgD__idyV8"
      },
      "source": [
        "so_posts_tag_wiki_excerpt_df.isna().sum()"
      ],
      "execution_count": null,
      "outputs": []
    },
    {
      "cell_type": "markdown",
      "metadata": {
        "id": "DDCWRb-lD-5I"
      },
      "source": [
        "## Tags"
      ]
    },
    {
      "cell_type": "code",
      "metadata": {
        "id": "WlG27S04oBhx"
      },
      "source": [
        "# so_tags_count = pd.io.gbq.read_gbq('''\n",
        "#   SELECT COUNT(*) as full_count\n",
        "#   FROM `bigquery-public-data.stackoverflow.tags` \n",
        "# ;\n",
        "# ''', project_id=PROJECT_ID, dialect='standard')\n",
        "\n",
        "# display(so_tags_count.head())\n",
        "\n",
        "# so_tags_df = pd.io.gbq.read_gbq('''\n",
        "#   SELECT *\n",
        "#   FROM `bigquery-public-data.stackoverflow.tags` \n",
        "#   LIMIT 1000\n",
        "# ;\n",
        "# ''', project_id=PROJECT_ID, dialect='standard')\n",
        "\n",
        "# so_tags_df.head(1)"
      ],
      "execution_count": null,
      "outputs": []
    },
    {
      "cell_type": "code",
      "metadata": {
        "id": "ZDgAy-pOZ3jE"
      },
      "source": [
        "so_tags_df.describe()"
      ],
      "execution_count": null,
      "outputs": []
    },
    {
      "cell_type": "code",
      "metadata": {
        "id": "czOou7fImFuF"
      },
      "source": [
        "so_tags_df.isna().sum()"
      ],
      "execution_count": null,
      "outputs": []
    },
    {
      "cell_type": "markdown",
      "metadata": {
        "id": "_RGVJEXYH7yK"
      },
      "source": [
        "## All Tags And Excerpts (JOINED)"
      ]
    },
    {
      "cell_type": "code",
      "metadata": {
        "id": "9KQ2xn29n4eU"
      },
      "source": [
        "# so_tags_full = pd.io.gbq.read_gbq('''\n",
        "# SELECT t.tag_name, te.body, t.count, te.comment_count, te.creation_date, te.last_activity_date, te.score, \n",
        "# FROM `bigquery-public-data.stackoverflow.posts_tag_wiki_excerpt` AS te\n",
        "# JOIN `bigquery-public-data.stackoverflow.tags` as t ON te.id = t.excerpt_post_id\n",
        "# ;\n",
        "# ''',dialect='standard')\n",
        "\n",
        "# so_tags_full.info()\n",
        "\n",
        "# so_tags_full.head(2)"
      ],
      "execution_count": null,
      "outputs": []
    },
    {
      "cell_type": "markdown",
      "metadata": {
        "id": "bEaBsKnrEB5g"
      },
      "source": [
        "## Users"
      ]
    },
    {
      "cell_type": "code",
      "metadata": {
        "id": "9Y6GlbmCpA66"
      },
      "source": [
        "# so_users_count = pd.io.gbq.read_gbq('''\n",
        "#   SELECT COUNT(*) as five_year_count\n",
        "#   FROM `bigquery-public-data.stackoverflow.users` \n",
        "#   WHERE creation_date BETWEEN TIMESTAMP(\"2016-04-01\") AND TIMESTAMP(\"2021-04-01\")\n",
        "# ;\n",
        "# ''', project_id=PROJECT_ID, dialect='standard')\n",
        "\n",
        "# display(so_users_count.head())\n",
        "\n",
        "# so_users_df = pd.io.gbq.read_gbq('''\n",
        "#   SELECT *\n",
        "#   FROM `bigquery-public-data.stackoverflow.users` \n",
        "#   WHERE creation_date BETWEEN TIMESTAMP(\"2020-04-01\") AND TIMESTAMP(\"2021-04-01\")\n",
        "#   LIMIT 1000\n",
        "# ;\n",
        "# ''', project_id=PROJECT_ID, dialect='standard')\n",
        "\n",
        "# so_users_df.head(1)"
      ],
      "execution_count": null,
      "outputs": []
    },
    {
      "cell_type": "code",
      "metadata": {
        "id": "uJLJzRwxAwxU"
      },
      "source": [
        "so_users_df.describe()"
      ],
      "execution_count": null,
      "outputs": []
    },
    {
      "cell_type": "code",
      "metadata": {
        "id": "JBEmN1dJF3Am"
      },
      "source": [
        "so_users_df['reputation'].unique()"
      ],
      "execution_count": null,
      "outputs": []
    },
    {
      "cell_type": "code",
      "metadata": {
        "id": "nYbY5EIjY-mk"
      },
      "source": [
        "so_users_df.info()"
      ],
      "execution_count": null,
      "outputs": []
    },
    {
      "cell_type": "markdown",
      "metadata": {
        "id": "uiJHpvDyDf67"
      },
      "source": [
        "## Badges"
      ]
    },
    {
      "cell_type": "code",
      "metadata": {
        "id": "a_hffO7egXQX"
      },
      "source": [
        "# so_badges_count = pd.io.gbq.read_gbq('''\n",
        "#   SELECT COUNT(*)\n",
        "#   FROM `bigquery-public-data.stackoverflow.badges` \n",
        "#   WHERE date BETWEEN TIMESTAMP(\"2020-04-01\") AND TIMESTAMP(\"2021-04-01\")\n",
        "#   LIMIT 1000\n",
        "# ;\n",
        "# ''', project_id=PROJECT_ID, dialect='standard')\n",
        "\n",
        "# display(so_badges_count.head())\n",
        "\n",
        "# so_badges_df = pd.io.gbq.read_gbq('''\n",
        "#   SELECT *\n",
        "#   FROM `bigquery-public-data.stackoverflow.badges` \n",
        "#   WHERE date BETWEEN TIMESTAMP(\"2020-04-01\") AND TIMESTAMP(\"2021-04-01\")\n",
        "#   LIMIT 1000\n",
        "# ;\n",
        "# ''', project_id=PROJECT_ID, dialect='standard')\n",
        "\n",
        "# so_badges_df.head(1)"
      ],
      "execution_count": null,
      "outputs": []
    },
    {
      "cell_type": "code",
      "metadata": {
        "id": "F34fhoPoWmey"
      },
      "source": [
        "so_badges_df['name'].unique()"
      ],
      "execution_count": null,
      "outputs": []
    },
    {
      "cell_type": "markdown",
      "metadata": {
        "id": "DM3oheEzhy7j"
      },
      "source": [
        "-- LIST USERS IN THE LAST 10 YEARS.\n",
        "-- : MOST UPVOTES, MOST BADGES (STRING_AGG), "
      ]
    },
    {
      "cell_type": "code",
      "metadata": {
        "id": "aYe7YXDk-zz_"
      },
      "source": [
        "so_user_badges = pd.io.gbq.read_gbq('''\n",
        "  SELECT b.user_id, u.display_name,\n",
        "      STRING_AGG(DISTINCT b.name, \", \") AS applied_badges,\n",
        "      SUM(u.down_votes) AS total_downvotes,\n",
        "      SUM(u.up_votes) AS total_upvotes,\n",
        "      SUM(u.reputation) AS total_reputation\n",
        "  FROM `bigquery-public-data.stackoverflow.users` AS u\n",
        "  JOIN `bigquery-public-data.stackoverflow.badges` AS b ON u.id = b.user_id\n",
        "  WHERE u.creation_date BETWEEN TIMESTAMP(\"2011-04-01\") AND TIMESTAMP(\"2021-04-01\")\n",
        "  GROUP BY b.user_id, u.display_name\n",
        "  ORDER BY total_reputation DESC \n",
        "  LIMIT 300000\n",
        "  ;\n",
        "''', project_id=PROJECT_ID, dialect='standard')"
      ],
      "execution_count": null,
      "outputs": []
    },
    {
      "cell_type": "code",
      "metadata": {
        "id": "j0lV5MoSHpui"
      },
      "source": [
        "so_user_badges.shape"
      ],
      "execution_count": null,
      "outputs": []
    },
    {
      "cell_type": "markdown",
      "metadata": {
        "id": "lQHUpLhPrd10"
      },
      "source": [
        "## Final Queries for NLP EDA\n",
        "\n",
        "- Questions and accepted answers in last 5 years with 'python' tag\n",
        "- tags with the most 'count'"
      ]
    },
    {
      "cell_type": "code",
      "metadata": {
        "colab": {
          "base_uri": "https://localhost:8080/"
        },
        "id": "5Q488e03yPoO",
        "outputId": "a3621a7e-40a6-4aec-cd21-719a598d8c41"
      },
      "source": [
        "os.chdir('/content/drive/MyDrive/Kaggle/bq-4-26/stackoverflow')\n",
        "!pwd\n",
        "!ls"
      ],
      "execution_count": 106,
      "outputs": [
        {
          "output_type": "stream",
          "text": [
            "/content/drive/MyDrive/Kaggle/bq-4-26/stackoverflow\n",
            "so_posts_QA_df.parquet.gzip  so_posts_QA_feather  so_QA_tags.gzip\n"
          ],
          "name": "stdout"
        }
      ]
    },
    {
      "cell_type": "code",
      "metadata": {
        "id": "SGpmi-t0yUJj"
      },
      "source": [
        ""
      ],
      "execution_count": 106,
      "outputs": []
    },
    {
      "cell_type": "code",
      "metadata": {
        "id": "VTP1WIWQro_G"
      },
      "source": [
        "# so_QA_tags_df = pd.io.gbq.read_gbq('''\n",
        "# SELECT pq.title, pq.body AS post_question, pa.body AS post_answer, pq.answer_count AS question_answers, \n",
        "#        pq.comment_count AS question_comments, pa.comment_count AS answer_comments, pq.creation_date, pq.last_activity_date, \n",
        "#        pq.score AS question_score, pa.score AS answer_score, pq.tags, pq.view_count AS question_view_count\n",
        "# FROM `bigquery-public-data.stackoverflow.posts_answers` AS pa\n",
        "# INNER JOIN (\n",
        "#     SELECT *\n",
        "#     FROM `bigquery-public-data.stackoverflow.posts_questions`\n",
        "#     WHERE accepted_answer_id IS NOT NULL\n",
        "#     AND creation_date BETWEEN TIMESTAMP(\"2016-04-01\") AND TIMESTAMP(\"2021-04-01\")\n",
        "#     AND tags LIKE \"%python%\"\n",
        "# ) AS pq ON pa.id = pq.accepted_answer_id\n",
        "# WHERE RAND() < 200000 / 586000\n",
        "# ''', dialect='standard') \n",
        "\n",
        "# print(so_QA_tags_df.shape)\n",
        "\n",
        "# so_QA_tags_df.to_parquet(\"so_QA_tags.gzip\", compression='gzip')"
      ],
      "execution_count": 107,
      "outputs": []
    },
    {
      "cell_type": "code",
      "metadata": {
        "colab": {
          "base_uri": "https://localhost:8080/",
          "height": 180
        },
        "id": "MJMURDx5zeTP",
        "outputId": "4d44f3cb-78dd-4b9c-b734-ccef85f43673"
      },
      "source": [
        "so_QA_tags = pd.read_parquet(\"so_QA_tags.gzip\")\n",
        "so_QA_tags.head(2)"
      ],
      "execution_count": 108,
      "outputs": [
        {
          "output_type": "execute_result",
          "data": {
            "text/html": [
              "<div>\n",
              "<style scoped>\n",
              "    .dataframe tbody tr th:only-of-type {\n",
              "        vertical-align: middle;\n",
              "    }\n",
              "\n",
              "    .dataframe tbody tr th {\n",
              "        vertical-align: top;\n",
              "    }\n",
              "\n",
              "    .dataframe thead th {\n",
              "        text-align: right;\n",
              "    }\n",
              "</style>\n",
              "<table border=\"1\" class=\"dataframe\">\n",
              "  <thead>\n",
              "    <tr style=\"text-align: right;\">\n",
              "      <th></th>\n",
              "      <th>title</th>\n",
              "      <th>post_question</th>\n",
              "      <th>post_answer</th>\n",
              "      <th>question_answers</th>\n",
              "      <th>question_comments</th>\n",
              "      <th>answer_comments</th>\n",
              "      <th>creation_date</th>\n",
              "      <th>last_activity_date</th>\n",
              "      <th>question_score</th>\n",
              "      <th>answer_score</th>\n",
              "      <th>tags</th>\n",
              "      <th>question_view_count</th>\n",
              "    </tr>\n",
              "  </thead>\n",
              "  <tbody>\n",
              "    <tr>\n",
              "      <th>0</th>\n",
              "      <td>Click: Customize \"Missing argument\" error hand...</td>\n",
              "      <td>&lt;p&gt;I´m currently trying to customize the error...</td>\n",
              "      <td>&lt;p&gt;This is a first draft and the most naive so...</td>\n",
              "      <td>1</td>\n",
              "      <td>4</td>\n",
              "      <td>3</td>\n",
              "      <td>2020-04-27 17:54:28.800000+00:00</td>\n",
              "      <td>2020-04-28 20:43:47.557000+00:00</td>\n",
              "      <td>1</td>\n",
              "      <td>1</td>\n",
              "      <td>python|command-line-interface|command-line-arg...</td>\n",
              "      <td>143</td>\n",
              "    </tr>\n",
              "    <tr>\n",
              "      <th>1</th>\n",
              "      <td>'list' object is not callable for checking sco...</td>\n",
              "      <td>&lt;p&gt;I am creating a model using SVM. I wanted t...</td>\n",
              "      <td>&lt;p&gt;You create lists:&lt;/p&gt;\\n&lt;pre&gt;&lt;code&gt;accuracy ...</td>\n",
              "      <td>1</td>\n",
              "      <td>2</td>\n",
              "      <td>0</td>\n",
              "      <td>2020-07-14 06:42:41.183000+00:00</td>\n",
              "      <td>2020-07-16 14:20:51.563000+00:00</td>\n",
              "      <td>2</td>\n",
              "      <td>2</td>\n",
              "      <td>python|scikit-learn|jupyter|svm|confusion-matrix</td>\n",
              "      <td>129</td>\n",
              "    </tr>\n",
              "  </tbody>\n",
              "</table>\n",
              "</div>"
            ],
            "text/plain": [
              "                                               title  ... question_view_count\n",
              "0  Click: Customize \"Missing argument\" error hand...  ...                 143\n",
              "1  'list' object is not callable for checking sco...  ...                 129\n",
              "\n",
              "[2 rows x 12 columns]"
            ]
          },
          "metadata": {
            "tags": []
          },
          "execution_count": 108
        }
      ]
    },
    {
      "cell_type": "markdown",
      "metadata": {
        "id": "Tj0OgDPIdDnT"
      },
      "source": [
        "# Query Types\n",
        "\n",
        "- JOIN\n",
        "- UNION\n",
        "- GROUP CONCAT\n",
        "- COALESCE\n",
        "- LAG, LEAD\n",
        "- CASE/WHEN/THEN/ELSE, IF/ELSEIF/ELSE\n",
        "<br>\n",
        "\n",
        "- String Manipulation\n",
        "- Datetime Manipulation\n",
        "- Aggregate Functions\n",
        "<br>\n",
        "\n",
        "- Subqueries\n",
        "- Window Functions\n",
        "  - PARTITION BY\n",
        "- CTE (Common Table Expressions)\n",
        "\n"
      ]
    },
    {
      "cell_type": "markdown",
      "metadata": {
        "id": "AeU5YebJOXb4"
      },
      "source": [
        "# NLP\n",
        "How does the question content and accepted answer content affect the following metrics?:\n",
        "- upvotes\n",
        "- downvotes\n",
        "- reputation\n",
        "- badges\n",
        "\n",
        "\n",
        "**Regression** <br>\n",
        "\n",
        "*Logistic*\n",
        "1. Can the question title and body be enough to predict the majority of votes (up/down).  Whether the post is good or bad.\n",
        "<br>\n",
        "\n",
        "*Linear*\n",
        "1. Assuming a good post, can the number of views be predicted depending on how long the question has been live?  This will require some feature engineering to know the number of years a question has been around.\n",
        "\n",
        "2. Is there a trend in certain techniques/keywords for certain tags?\n",
        "\n",
        "*Unsupervised Clustering*\n",
        "1. Which tags have the most activity in the last 5 years?"
      ]
    },
    {
      "cell_type": "markdown",
      "metadata": {
        "id": "ULWBbdiEuFcs"
      },
      "source": [
        "## Question/Answer title and body analysis using NLP libraries\n",
        "\n",
        "- beautiful soup: Parse through HTML and clean up tags\n",
        "- create new column for links and if links were included\n",
        "- nltk: tokenization\n",
        "- spacy: independent effort\n",
        "\n",
        "-- remove \\n nextline\n",
        "-- remove punctuation\n",
        "-- stopwords\n",
        "-- create word cloud for tags\n",
        "-- stemming\n",
        "-- lemmatization\n",
        "\n"
      ]
    },
    {
      "cell_type": "code",
      "metadata": {
        "colab": {
          "base_uri": "https://localhost:8080/",
          "height": 197
        },
        "id": "Km2tES_uucpK",
        "outputId": "cb430ff3-39a8-4974-fd2f-1f3803c25e22"
      },
      "source": [
        "\n",
        "print(so_QA_tags.shape)\n",
        "so_QA_tags.head(2)"
      ],
      "execution_count": 109,
      "outputs": [
        {
          "output_type": "stream",
          "text": [
            "(199679, 12)\n"
          ],
          "name": "stdout"
        },
        {
          "output_type": "execute_result",
          "data": {
            "text/html": [
              "<div>\n",
              "<style scoped>\n",
              "    .dataframe tbody tr th:only-of-type {\n",
              "        vertical-align: middle;\n",
              "    }\n",
              "\n",
              "    .dataframe tbody tr th {\n",
              "        vertical-align: top;\n",
              "    }\n",
              "\n",
              "    .dataframe thead th {\n",
              "        text-align: right;\n",
              "    }\n",
              "</style>\n",
              "<table border=\"1\" class=\"dataframe\">\n",
              "  <thead>\n",
              "    <tr style=\"text-align: right;\">\n",
              "      <th></th>\n",
              "      <th>title</th>\n",
              "      <th>post_question</th>\n",
              "      <th>post_answer</th>\n",
              "      <th>question_answers</th>\n",
              "      <th>question_comments</th>\n",
              "      <th>answer_comments</th>\n",
              "      <th>creation_date</th>\n",
              "      <th>last_activity_date</th>\n",
              "      <th>question_score</th>\n",
              "      <th>answer_score</th>\n",
              "      <th>tags</th>\n",
              "      <th>question_view_count</th>\n",
              "    </tr>\n",
              "  </thead>\n",
              "  <tbody>\n",
              "    <tr>\n",
              "      <th>0</th>\n",
              "      <td>Click: Customize \"Missing argument\" error hand...</td>\n",
              "      <td>&lt;p&gt;I´m currently trying to customize the error...</td>\n",
              "      <td>&lt;p&gt;This is a first draft and the most naive so...</td>\n",
              "      <td>1</td>\n",
              "      <td>4</td>\n",
              "      <td>3</td>\n",
              "      <td>2020-04-27 17:54:28.800000+00:00</td>\n",
              "      <td>2020-04-28 20:43:47.557000+00:00</td>\n",
              "      <td>1</td>\n",
              "      <td>1</td>\n",
              "      <td>python|command-line-interface|command-line-arg...</td>\n",
              "      <td>143</td>\n",
              "    </tr>\n",
              "    <tr>\n",
              "      <th>1</th>\n",
              "      <td>'list' object is not callable for checking sco...</td>\n",
              "      <td>&lt;p&gt;I am creating a model using SVM. I wanted t...</td>\n",
              "      <td>&lt;p&gt;You create lists:&lt;/p&gt;\\n&lt;pre&gt;&lt;code&gt;accuracy ...</td>\n",
              "      <td>1</td>\n",
              "      <td>2</td>\n",
              "      <td>0</td>\n",
              "      <td>2020-07-14 06:42:41.183000+00:00</td>\n",
              "      <td>2020-07-16 14:20:51.563000+00:00</td>\n",
              "      <td>2</td>\n",
              "      <td>2</td>\n",
              "      <td>python|scikit-learn|jupyter|svm|confusion-matrix</td>\n",
              "      <td>129</td>\n",
              "    </tr>\n",
              "  </tbody>\n",
              "</table>\n",
              "</div>"
            ],
            "text/plain": [
              "                                               title  ... question_view_count\n",
              "0  Click: Customize \"Missing argument\" error hand...  ...                 143\n",
              "1  'list' object is not callable for checking sco...  ...                 129\n",
              "\n",
              "[2 rows x 12 columns]"
            ]
          },
          "metadata": {
            "tags": []
          },
          "execution_count": 109
        }
      ]
    },
    {
      "cell_type": "code",
      "metadata": {
        "colab": {
          "base_uri": "https://localhost:8080/",
          "height": 250
        },
        "id": "2hDfJUSnXEas",
        "outputId": "861f166b-361c-47e5-f050-b074aea380f8"
      },
      "source": [
        "print(so_QA_tags.shape)\n",
        "so_QA_tags.describe().T"
      ],
      "execution_count": 110,
      "outputs": [
        {
          "output_type": "stream",
          "text": [
            "(199679, 12)\n"
          ],
          "name": "stdout"
        },
        {
          "output_type": "execute_result",
          "data": {
            "text/html": [
              "<div>\n",
              "<style scoped>\n",
              "    .dataframe tbody tr th:only-of-type {\n",
              "        vertical-align: middle;\n",
              "    }\n",
              "\n",
              "    .dataframe tbody tr th {\n",
              "        vertical-align: top;\n",
              "    }\n",
              "\n",
              "    .dataframe thead th {\n",
              "        text-align: right;\n",
              "    }\n",
              "</style>\n",
              "<table border=\"1\" class=\"dataframe\">\n",
              "  <thead>\n",
              "    <tr style=\"text-align: right;\">\n",
              "      <th></th>\n",
              "      <th>count</th>\n",
              "      <th>mean</th>\n",
              "      <th>std</th>\n",
              "      <th>min</th>\n",
              "      <th>25%</th>\n",
              "      <th>50%</th>\n",
              "      <th>75%</th>\n",
              "      <th>max</th>\n",
              "    </tr>\n",
              "  </thead>\n",
              "  <tbody>\n",
              "    <tr>\n",
              "      <th>question_answers</th>\n",
              "      <td>199679.0</td>\n",
              "      <td>1.571487</td>\n",
              "      <td>0.973870</td>\n",
              "      <td>1.0</td>\n",
              "      <td>1.0</td>\n",
              "      <td>1.0</td>\n",
              "      <td>2.0</td>\n",
              "      <td>32.0</td>\n",
              "    </tr>\n",
              "    <tr>\n",
              "      <th>question_comments</th>\n",
              "      <td>199679.0</td>\n",
              "      <td>1.862519</td>\n",
              "      <td>2.520400</td>\n",
              "      <td>0.0</td>\n",
              "      <td>0.0</td>\n",
              "      <td>1.0</td>\n",
              "      <td>3.0</td>\n",
              "      <td>47.0</td>\n",
              "    </tr>\n",
              "    <tr>\n",
              "      <th>answer_comments</th>\n",
              "      <td>199679.0</td>\n",
              "      <td>1.514401</td>\n",
              "      <td>2.318252</td>\n",
              "      <td>0.0</td>\n",
              "      <td>0.0</td>\n",
              "      <td>1.0</td>\n",
              "      <td>2.0</td>\n",
              "      <td>61.0</td>\n",
              "    </tr>\n",
              "    <tr>\n",
              "      <th>question_score</th>\n",
              "      <td>199679.0</td>\n",
              "      <td>1.188222</td>\n",
              "      <td>5.993023</td>\n",
              "      <td>-22.0</td>\n",
              "      <td>0.0</td>\n",
              "      <td>0.0</td>\n",
              "      <td>1.0</td>\n",
              "      <td>1296.0</td>\n",
              "    </tr>\n",
              "    <tr>\n",
              "      <th>answer_score</th>\n",
              "      <td>199679.0</td>\n",
              "      <td>2.137170</td>\n",
              "      <td>8.225570</td>\n",
              "      <td>-5.0</td>\n",
              "      <td>0.0</td>\n",
              "      <td>1.0</td>\n",
              "      <td>2.0</td>\n",
              "      <td>1643.0</td>\n",
              "    </tr>\n",
              "    <tr>\n",
              "      <th>question_view_count</th>\n",
              "      <td>199679.0</td>\n",
              "      <td>1211.418161</td>\n",
              "      <td>7036.489821</td>\n",
              "      <td>7.0</td>\n",
              "      <td>52.0</td>\n",
              "      <td>137.0</td>\n",
              "      <td>676.0</td>\n",
              "      <td>965492.0</td>\n",
              "    </tr>\n",
              "  </tbody>\n",
              "</table>\n",
              "</div>"
            ],
            "text/plain": [
              "                        count         mean          std  ...    50%    75%       max\n",
              "question_answers     199679.0     1.571487     0.973870  ...    1.0    2.0      32.0\n",
              "question_comments    199679.0     1.862519     2.520400  ...    1.0    3.0      47.0\n",
              "answer_comments      199679.0     1.514401     2.318252  ...    1.0    2.0      61.0\n",
              "question_score       199679.0     1.188222     5.993023  ...    0.0    1.0    1296.0\n",
              "answer_score         199679.0     2.137170     8.225570  ...    1.0    2.0    1643.0\n",
              "question_view_count  199679.0  1211.418161  7036.489821  ...  137.0  676.0  965492.0\n",
              "\n",
              "[6 rows x 8 columns]"
            ]
          },
          "metadata": {
            "tags": []
          },
          "execution_count": 110
        }
      ]
    },
    {
      "cell_type": "code",
      "metadata": {
        "colab": {
          "base_uri": "https://localhost:8080/"
        },
        "id": "_NXkbT-pdGGY",
        "outputId": "e5dbe87b-6057-4a97-9966-732740e0340a"
      },
      "source": [
        "print(so_QA_tags.question_view_count.median())\n",
        "print(so_QA_tags.question_view_count.mode())"
      ],
      "execution_count": 111,
      "outputs": [
        {
          "output_type": "stream",
          "text": [
            "137.0\n",
            "0    37\n",
            "dtype: int64\n"
          ],
          "name": "stdout"
        }
      ]
    },
    {
      "cell_type": "markdown",
      "metadata": {
        "id": "ohGZq58PYg2D"
      },
      "source": [
        "#### Distribution for views"
      ]
    },
    {
      "cell_type": "code",
      "metadata": {
        "colab": {
          "base_uri": "https://localhost:8080/",
          "height": 1000
        },
        "id": "tjTWcSTSbuBW",
        "outputId": "7d64f02c-1987-42bb-d137-c97c70d3a48e"
      },
      "source": [
        "fig, axes = plt.subplots(3, 1, figsize=(10,15))\n",
        "\n",
        "ax1 = axes[0]\n",
        "ax1.set_title('Distribution of questions up to 300 views')\n",
        "sns.histplot(x='question_view_count', data=so_QA_tags, binrange=(0,300), bins=25, ax=ax1, alpha=.5)\n",
        "sns.histplot(x='question_view_count', data=so_QA_tags, element='poly', binrange=(0,300), bins=25, ax=ax1, alpha=.5)\n",
        "\n",
        "ax2 = axes[1]\n",
        "ax2.set_title('Distribution of questions up to 100 views')\n",
        "sns.histplot(x='question_view_count', data=so_QA_tags, binrange=(0,100), bins=25, ax=ax2)\n",
        "\n",
        "ax3 = axes[2]\n",
        "ax3.set_title('Distribution of questions up to 30 views')\n",
        "sns.histplot(x='question_view_count', data=so_QA_tags, binrange=(0,30), bins=15, ax=ax3)\n",
        "\n",
        "plt.tight_layout()\n",
        "plt.show()"
      ],
      "execution_count": 112,
      "outputs": [
        {
          "output_type": "display_data",
          "data": {
            "image/png": "[encoded data removed]",
            "text/plain": [
              "<Figure size 720x1080 with 3 Axes>"
            ]
          },
          "metadata": {
            "tags": [],
            "needs_background": "light"
          }
        }
      ]
    },
    {
      "cell_type": "code",
      "metadata": {
        "colab": {
          "base_uri": "https://localhost:8080/",
          "height": 474
        },
        "id": "SYdzmA63Hcvb",
        "outputId": "668e0ede-2f72-4524-d5f6-caa1107bb3a9"
      },
      "source": [
        "# fig, ax = plt.subplots(figsize=(10,15))\n",
        "plt.figure()\n",
        "sns.displot(so_QA_tags['question_view_count'], kind='hist', binrange=(0,1000), bins=40, height=6, aspect=1.5)\n",
        "plt.title(\"Histogram Distribution of 'question_view_count'\")\n",
        "plt.show()\n",
        "\n"
      ],
      "execution_count": 113,
      "outputs": [
        {
          "output_type": "display_data",
          "data": {
            "text/plain": [
              "<Figure size 432x288 with 0 Axes>"
            ]
          },
          "metadata": {
            "tags": []
          }
        },
        {
          "output_type": "display_data",
          "data": {
            "image/png": "[encoded data removed]",
            "text/plain": [
              "<Figure size 648x432 with 1 Axes>"
            ]
          },
          "metadata": {
            "tags": [],
            "needs_background": "light"
          }
        }
      ]
    },
    {
      "cell_type": "code",
      "metadata": {
        "colab": {
          "base_uri": "https://localhost:8080/",
          "height": 777
        },
        "id": "Q9p2HvpruR3v",
        "outputId": "51a65535-5ab8-47e1-e100-265448ccff39"
      },
      "source": [
        "\n",
        "plt.figure()\n",
        "sns.displot(so_QA_tags['question_view_count'], kind='kde', bw_adjust=.1, aspect=2)\n",
        "plt.title(\"KDE distribution of 'question_view_count'\")\n",
        "plt.show()\n",
        "\n",
        "plt.figure()\n",
        "sns.displot(so_QA_tags['question_view_count'], kind='kde', cumulative=True, aspect=2)\n",
        "plt.title(\"Cumulative KDE distribution of 'question_view_count'\")\n",
        "plt.show()"
      ],
      "execution_count": 114,
      "outputs": [
        {
          "output_type": "display_data",
          "data": {
            "text/plain": [
              "<Figure size 432x288 with 0 Axes>"
            ]
          },
          "metadata": {
            "tags": []
          }
        },
        {
          "output_type": "display_data",
          "data": {
            "image/png": "[encoded data removed]",
            "text/plain": [
              "<Figure size 720x360 with 1 Axes>"
            ]
          },
          "metadata": {
            "tags": [],
            "needs_background": "light"
          }
        },
        {
          "output_type": "display_data",
          "data": {
            "text/plain": [
              "<Figure size 432x288 with 0 Axes>"
            ]
          },
          "metadata": {
            "tags": []
          }
        },
        {
          "output_type": "display_data",
          "data": {
            "image/png": "[encoded data removed]",
            "text/plain": [
              "<Figure size 720x360 with 1 Axes>"
            ]
          },
          "metadata": {
            "tags": [],
            "needs_background": "light"
          }
        }
      ]
    },
    {
      "cell_type": "code",
      "metadata": {
        "colab": {
          "base_uri": "https://localhost:8080/",
          "height": 416
        },
        "id": "OXPeQRm_xifb",
        "outputId": "194e8abf-9bfb-4137-f0f7-109c5187ad90"
      },
      "source": [
        "plt.figure()\n",
        "sns.displot(x='question_view_count', data=so_QA_tags, kind='ecdf', height=5, aspect=2, log_scale=True)\n",
        "plt.title(\"Empirical Cumulative Distribution Function of 'question_view_count'\")\n",
        "plt.show"
      ],
      "execution_count": 115,
      "outputs": [
        {
          "output_type": "execute_result",
          "data": {
            "text/plain": [
              "<function matplotlib.pyplot.show>"
            ]
          },
          "metadata": {
            "tags": []
          },
          "execution_count": 115
        },
        {
          "output_type": "display_data",
          "data": {
            "text/plain": [
              "<Figure size 432x288 with 0 Axes>"
            ]
          },
          "metadata": {
            "tags": []
          }
        },
        {
          "output_type": "display_data",
          "data": {
            "image/png": "[encoded data removed]",
            "text/plain": [
              "<Figure size 720x360 with 1 Axes>"
            ]
          },
          "metadata": {
            "tags": [],
            "needs_background": "light"
          }
        }
      ]
    },
    {
      "cell_type": "markdown",
      "metadata": {
        "id": "61fJulRCVA2n"
      },
      "source": [
        "#### <font color='red'>Setting popularity labels </font>\n",
        "The distribution appears to skew to the right and the majority of the curve is far left of the mean (1211) and most posts will experience ~37 views. These metrics in tandem with a cumulative distribution plot can help us split the posts into 3 groups that represent 3 different sections of the distribution.  \n",
        "\n",
        "Given a normal distribution, the 3 groups could be selected based on the mean and its standard deviations.  Because of the skewness, these metrics will not allow a simple division of the distribution. This is a problem because of how large the  is compared to the \n",
        "- mean = 1211 <br>\n",
        "- 1 std = 7036 views <br>\n",
        "- mode = 37 <br>\n",
        "- max number of views = 965492 <br>\n",
        "- min number of views = 7 <br>\n",
        "\n",
        "This data naturally has a lot of outliers as seen in the distribution charts.  Based on the cumulative distribution plot, posts beyond ~37 views accounts for only 5% of the data.  The majority of the data is represented by posts that don't have more than 30 views.  \n",
        "\n",
        "To solve our original problem we only need to determine what makes a post have an exceptionally high number of views as opposed to posts that see an average amount of views and those that barely see any views.  \n",
        "\n",
        "Judging from the distribution plots, the sections can be broken down as such:\n",
        "\n",
        "- top: question_view_count > 250\n",
        "- mid: 15 < question_view_count < 250 \n",
        "- bot: question_view_count < 15\n",
        "\n",
        "\n",
        "*TOP*<br>\n",
        "Posts that have an exceptionally high amount of views that account for ~10% of the data. These posts also happen to include the mean and posts that are several standard deviations above. \n",
        "\n",
        "*MIDDLE*<br>\n",
        "Posts that includes the vast majority where views are.  These posts have an average amount of views and account for ~85% of the data\n",
        "\n",
        "*BOTTOM*<br>\n",
        "Posts that are barely viewed even though there is an acceptable answer.  These questions are rare likely due to the newness of the post or because the question is either too trivial, very specialized in nature, or some other unknown reason. \n",
        "\n",
        "-------------------------------\n",
        "Labeling the posts based on these metrics will help us determine what key words in the question or answer affect the view counts for the posts that include the 'python' tag in the last 5 years."
      ]
    },
    {
      "cell_type": "code",
      "metadata": {
        "colab": {
          "base_uri": "https://localhost:8080/"
        },
        "id": "LKwAJzWO2Qsg",
        "outputId": "a27f51e8-9f27-4e97-ca55-6284b57151cb"
      },
      "source": [
        "so_QA_tags['dist_section'] = np.where(so_QA_tags['question_view_count'] > 250, 'Top', np.where(so_QA_tags['question_view_count'] > 15, 'Middle', 'Bottom'))\n",
        "so_QA_tags['dist_section'].value_counts()"
      ],
      "execution_count": 116,
      "outputs": [
        {
          "output_type": "execute_result",
          "data": {
            "text/plain": [
              "Middle    118576\n",
              "Top        80514\n",
              "Bottom       589\n",
              "Name: dist_section, dtype: int64"
            ]
          },
          "metadata": {
            "tags": []
          },
          "execution_count": 116
        }
      ]
    },
    {
      "cell_type": "markdown",
      "metadata": {
        "id": "RycB31bBKiJW"
      },
      "source": [
        "### Beautiful Soup"
      ]
    },
    {
      "cell_type": "code",
      "metadata": {
        "id": "l_MC1Xpn7xjZ"
      },
      "source": [
        "# converting html to text\n",
        "\n",
        "def soup_lxml(text):\n",
        "  soup = BeautifulSoup(text, 'lxml')\n",
        "  html_free = soup.get_text()\n",
        "  return html_free\n",
        "\n",
        "def soup_html(text):\n",
        "  soup = BeautifulSoup(text, 'html.parser')\n",
        "  html_free = soup.get_text()\n",
        "  return html_free\n",
        "\n",
        "def remove_next_line(text):\n",
        "  new_text =  re.sub(\"\\n\", \"\", text)\n",
        "  return new_text\n",
        "\n"
      ],
      "execution_count": 117,
      "outputs": []
    },
    {
      "cell_type": "code",
      "metadata": {
        "colab": {
          "base_uri": "https://localhost:8080/"
        },
        "id": "gIb-LIly8B_K",
        "outputId": "5ab8fe76-be9b-43e4-cd60-9bbbe5ed143e"
      },
      "source": [
        "# Initializing an example post as test data\n",
        "\n",
        "test_html = so_QA_tags.loc[1, 'post_answer']\n",
        "print(test_html)"
      ],
      "execution_count": 118,
      "outputs": [
        {
          "output_type": "stream",
          "text": [
            "<p>You create lists:</p>\n",
            "<pre><code>accuracy = []\n",
            "precision = []\n",
            "recall = []\n",
            "f1 = []\n",
            "...\n",
            "</code></pre>\n",
            "<p>and you define scores to hold these lists:</p>\n",
            "<pre><code>scores = [accuracy, precision, recall, f1]\n",
            "</code></pre>\n",
            "<p>Then you iterate over these lists:</p>\n",
            "<pre><code>for score in scores:\n",
            "   ...\n",
            "</code></pre>\n",
            "<p>But inside that loop you use these lists as if they're functions:</p>\n",
            "<pre><code>score(y_test, predictions)\n",
            "</code></pre>\n"
          ],
          "name": "stdout"
        }
      ]
    },
    {
      "cell_type": "markdown",
      "metadata": {
        "id": "l_Ca77iwAfyw"
      },
      "source": [
        "#### Using different parsers to remove html tags"
      ]
    },
    {
      "cell_type": "code",
      "metadata": {
        "colab": {
          "base_uri": "https://localhost:8080/"
        },
        "id": "bf3XZatj8Ojy",
        "outputId": "6a9f484a-8ba6-48b0-8de1-15590684e4dc"
      },
      "source": [
        "\n",
        "print(\"\\n================== lxml ===================\\n\")\n",
        "# using lxml parser\n",
        "\n",
        "test_text_lxml = soup_lxml(test_html)\n",
        "print(test_text_lxml)\n",
        "\n",
        "\n",
        "print(\"\\n===============  html.parser ===============\\n\")\n",
        "# using html.parser parser\n",
        "\n",
        "test_text_html = soup_html(test_html)\n",
        "print(test_text_html)"
      ],
      "execution_count": 119,
      "outputs": [
        {
          "output_type": "stream",
          "text": [
            "\n",
            "================== lxml ===================\n",
            "\n",
            "You create lists:\n",
            "accuracy = []\n",
            "precision = []\n",
            "recall = []\n",
            "f1 = []\n",
            "...\n",
            "\n",
            "and you define scores to hold these lists:\n",
            "scores = [accuracy, precision, recall, f1]\n",
            "\n",
            "Then you iterate over these lists:\n",
            "for score in scores:\n",
            "   ...\n",
            "\n",
            "But inside that loop you use these lists as if they're functions:\n",
            "score(y_test, predictions)\n",
            "\n",
            "\n",
            "===============  html.parser ===============\n",
            "\n",
            "You create lists:\n",
            "accuracy = []\n",
            "precision = []\n",
            "recall = []\n",
            "f1 = []\n",
            "...\n",
            "\n",
            "and you define scores to hold these lists:\n",
            "scores = [accuracy, precision, recall, f1]\n",
            "\n",
            "Then you iterate over these lists:\n",
            "for score in scores:\n",
            "   ...\n",
            "\n",
            "But inside that loop you use these lists as if they're functions:\n",
            "score(y_test, predictions)\n",
            "\n"
          ],
          "name": "stdout"
        }
      ]
    },
    {
      "cell_type": "markdown",
      "metadata": {
        "id": "2GdmHgiW6aJi"
      },
      "source": [
        "#### Removing \\n\n",
        "When printed, the output will handle the \\n as newlines.  This is not the same case when tokenizing an un-printed string.<br>\n",
        "They will have to be removed and formatting will be lost when printing."
      ]
    },
    {
      "cell_type": "code",
      "metadata": {
        "colab": {
          "base_uri": "https://localhost:8080/",
          "height": 52
        },
        "id": "W4gtq-jX6eV0",
        "outputId": "24629ffb-c6ef-4f0a-db18-483e5271be82"
      },
      "source": [
        "cleaned_text = remove_next_line(test_text_html)\n",
        "cleaned_text"
      ],
      "execution_count": 120,
      "outputs": [
        {
          "output_type": "execute_result",
          "data": {
            "application/vnd.google.colaboratory.intrinsic+json": {
              "type": "string"
            },
            "text/plain": [
              "\"You create lists:accuracy = []precision = []recall = []f1 = []...and you define scores to hold these lists:scores = [accuracy, precision, recall, f1]Then you iterate over these lists:for score in scores:   ...But inside that loop you use these lists as if they're functions:score(y_test, predictions)\""
            ]
          },
          "metadata": {
            "tags": []
          },
          "execution_count": 120
        }
      ]
    },
    {
      "cell_type": "markdown",
      "metadata": {
        "id": "Jdc0uzkILdas"
      },
      "source": [
        "#### Extracting html elements like links\n",
        "This should be done prior to extracting text since the tags need to be located. <br>\n",
        "Create new soup."
      ]
    },
    {
      "cell_type": "code",
      "metadata": {
        "id": "s0eIMQzsLvyE",
        "colab": {
          "base_uri": "https://localhost:8080/"
        },
        "outputId": "08f3feeb-45a6-40f0-d2b4-30f201dc6c29"
      },
      "source": [
        "test_soup = BeautifulSoup(test_html, \"html.parser\")\n",
        "test_links = test_soup.find_all('a')\n",
        "test_links"
      ],
      "execution_count": 121,
      "outputs": [
        {
          "output_type": "execute_result",
          "data": {
            "text/plain": [
              "[]"
            ]
          },
          "metadata": {
            "tags": []
          },
          "execution_count": 121
        }
      ]
    },
    {
      "cell_type": "markdown",
      "metadata": {
        "id": "o4dbi7CuDACc"
      },
      "source": [
        "2 ways to retrieve hyperlinks"
      ]
    },
    {
      "cell_type": "code",
      "metadata": {
        "id": "FCeP_AXvL3BM"
      },
      "source": [
        "for link in test_links:\n",
        "  print(\"Text for hyperlink: {}\".format(link.text))\n",
        "  print(\"Attributes of links: {}\".format(link.attrs))\n",
        "  print(\"Link from href: {}\".format(link.attrs['href']))\n",
        "\n",
        "for link in test_soup.find_all('a'):\n",
        "  print(link.get('href'))"
      ],
      "execution_count": 122,
      "outputs": []
    },
    {
      "cell_type": "markdown",
      "metadata": {
        "id": "yzhwm32HCdrp"
      },
      "source": [
        "#### Other Basic BeautifulSoup methods\n"
      ]
    },
    {
      "cell_type": "code",
      "metadata": {
        "colab": {
          "base_uri": "https://localhost:8080/"
        },
        "id": "1z5LUi-kSY9j",
        "outputId": "6cc9a4ef-3667-459b-878e-7c4921ed6a7b"
      },
      "source": [
        "# View the way tags are nested\n",
        "print(\"============ prettify ============\")\n",
        "print(test_soup.prettify())\n",
        "\n",
        "# Find titles\n",
        "print(\"=========== title =============\")\n",
        "print(test_soup.title)\n",
        "\n",
        "# Find p tags\n",
        "print(\"============ p ============\")\n",
        "print(test_soup.p)\n",
        "\n",
        "# Find links\n",
        "print(\"=========== a =============\")\n",
        "print(test_soup.a)\n",
        "\n",
        "# Find links\n",
        "print(\"============ find_all a ============\")\n",
        "test_soup.find_all('a')\n",
        "\n",
        "# Find text\n",
        "print(\"=========== find_all text =============\")\n",
        "parsed_text = test_soup.find_all(text=True)\n",
        "parsed_text"
      ],
      "execution_count": 123,
      "outputs": [
        {
          "output_type": "stream",
          "text": [
            "============ prettify ============\n",
            "<p>\n",
            " You create lists:\n",
            "</p>\n",
            "<pre><code>accuracy = []\n",
            "precision = []\n",
            "recall = []\n",
            "f1 = []\n",
            "...\n",
            "</code></pre>\n",
            "<p>\n",
            " and you define scores to hold these lists:\n",
            "</p>\n",
            "<pre><code>scores = [accuracy, precision, recall, f1]\n",
            "</code></pre>\n",
            "<p>\n",
            " Then you iterate over these lists:\n",
            "</p>\n",
            "<pre><code>for score in scores:\n",
            "   ...\n",
            "</code></pre>\n",
            "<p>\n",
            " But inside that loop you use these lists as if they're functions:\n",
            "</p>\n",
            "<pre><code>score(y_test, predictions)\n",
            "</code></pre>\n",
            "=========== title =============\n",
            "None\n",
            "============ p ============\n",
            "<p>You create lists:</p>\n",
            "=========== a =============\n",
            "None\n",
            "============ find_all a ============\n",
            "=========== find_all text =============\n"
          ],
          "name": "stdout"
        },
        {
          "output_type": "execute_result",
          "data": {
            "text/plain": [
              "['You create lists:',\n",
              " '\\n',\n",
              " 'accuracy = []\\nprecision = []\\nrecall = []\\nf1 = []\\n...\\n',\n",
              " '\\n',\n",
              " 'and you define scores to hold these lists:',\n",
              " '\\n',\n",
              " 'scores = [accuracy, precision, recall, f1]\\n',\n",
              " '\\n',\n",
              " 'Then you iterate over these lists:',\n",
              " '\\n',\n",
              " 'for score in scores:\\n   ...\\n',\n",
              " '\\n',\n",
              " \"But inside that loop you use these lists as if they're functions:\",\n",
              " '\\n',\n",
              " 'score(y_test, predictions)\\n']"
            ]
          },
          "metadata": {
            "tags": []
          },
          "execution_count": 123
        }
      ]
    },
    {
      "cell_type": "markdown",
      "metadata": {
        "id": "d-0tfNhPt9X7"
      },
      "source": [
        "#### Apply BeautifulSoup to post_question column to create cleaned up data"
      ]
    },
    {
      "cell_type": "code",
      "metadata": {
        "id": "f4kJMFynuJ-1"
      },
      "source": [
        "# use beautiful soup function to clean up html tags in the question\n",
        "so_QA_tags['bSoup_question'] = so_QA_tags['post_question'].map(soup_html)\n",
        "\n",
        "# use function to remove \\n from raw question data\n",
        "so_QA_tags['bSoup_question'] = so_QA_tags['bSoup_question'].map(remove_next_line)"
      ],
      "execution_count": 124,
      "outputs": []
    },
    {
      "cell_type": "code",
      "metadata": {
        "colab": {
          "base_uri": "https://localhost:8080/"
        },
        "id": "lpiKOICkzcsN",
        "outputId": "032811c2-3ea5-42dd-df74-10faad122719"
      },
      "source": [
        "so_QA_tags['bSoup_question'].iloc[:2]"
      ],
      "execution_count": 125,
      "outputs": [
        {
          "output_type": "execute_result",
          "data": {
            "text/plain": [
              "0    I´m currently trying to customize the error ha...\n",
              "1    I am creating a model using SVM. I wanted to s...\n",
              "Name: bSoup_question, dtype: object"
            ]
          },
          "metadata": {
            "tags": []
          },
          "execution_count": 125
        }
      ]
    },
    {
      "cell_type": "markdown",
      "metadata": {
        "id": "oMT3PR2lKqLN"
      },
      "source": [
        "### NLTK\n",
        "\n",
        "Using NLTK to clean up text and extract info to deterine the most used tokens."
      ]
    },
    {
      "cell_type": "code",
      "metadata": {
        "id": "cQavEt4S4Cu1",
        "colab": {
          "base_uri": "https://localhost:8080/"
        },
        "outputId": "41517dca-ad79-439c-fc3d-0e53ae311c4f"
      },
      "source": [
        "import nltk\n",
        "import string\n",
        "\n",
        "from nltk.corpus import stopwords\n",
        "from nltk.tokenize import RegexpTokenizer\n",
        "from nltk import word_tokenize\n",
        "from nltk.stem import PorterStemmer\n",
        "nltk.download('punkt')\n",
        "nltk.download('stopwords')\n",
        "nltk.download('wordnet')\n",
        "from nltk.stem import WordNetLemmatizer\n",
        "from nltk.stem.porter import PorterStemmer"
      ],
      "execution_count": 178,
      "outputs": [
        {
          "output_type": "stream",
          "text": [
            "[nltk_data] Downloading package punkt to /root/nltk_data...\n",
            "[nltk_data]   Package punkt is already up-to-date!\n",
            "[nltk_data] Downloading package stopwords to /root/nltk_data...\n",
            "[nltk_data]   Package stopwords is already up-to-date!\n",
            "[nltk_data] Downloading package wordnet to /root/nltk_data...\n",
            "[nltk_data]   Unzipping corpora/wordnet.zip.\n"
          ],
          "name": "stdout"
        }
      ]
    },
    {
      "cell_type": "code",
      "metadata": {
        "id": "ZC4IUJFw4xkq"
      },
      "source": [
        "# remove_puncutation\n",
        "def remove_punctuation(text):\n",
        "  try:\n",
        "    no_punct = \"\".join(c for c in text if c not in string.punctuation)\n",
        "    return no_punct\n",
        "  except (AttributeError, TypeError):\n",
        "    raise AssertionError('Input variable should be a string')"
      ],
      "execution_count": 129,
      "outputs": []
    },
    {
      "cell_type": "code",
      "metadata": {
        "colab": {
          "base_uri": "https://localhost:8080/",
          "height": 86
        },
        "id": "dRQa6L0g6_RT",
        "outputId": "2556fda9-8af9-4d89-bdad-48cf087ea402"
      },
      "source": [
        "ting_punc = pd.Series(data=[\"punc_STUFF like: ' ! @tag #tag %f 2^4 3*6 (par) They're \",\n",
        "                            \"! @ # $ % ^ & * ( ) - + ' . , / \\ \",\n",
        "                            \"tokenize this $4 $tuff for me a of plz..\"])\n",
        "display(ting_punc)"
      ],
      "execution_count": 130,
      "outputs": [
        {
          "output_type": "display_data",
          "data": {
            "text/plain": [
              "0    punc_STUFF like: ' ! @tag #tag %f 2^4 3*6 (par...\n",
              "1                   ! @ # $ % ^ & * ( ) - + ' . , / \\ \n",
              "2             tokenize this $4 $tuff for me a of plz..\n",
              "dtype: object"
            ]
          },
          "metadata": {
            "tags": []
          }
        }
      ]
    },
    {
      "cell_type": "markdown",
      "metadata": {
        "id": "BkPWgVLO6NWr"
      },
      "source": [
        "We may not want to remove punctuation that might degrade formulaic or programming notations."
      ]
    },
    {
      "cell_type": "code",
      "metadata": {
        "id": "JsRjlfbE6e0I"
      },
      "source": [
        "# nltk tokenizer turns string into list of words\n",
        "def tokenize_nltk(text, mode='default', case=None):\n",
        "  \"\"\"\n",
        "  mode:\n",
        "    space - tokenizes based on spaces as delimiters\n",
        "    word - tokenizes based on words\n",
        "    punkt - tokenizes based on punkt lexicon\n",
        "  case:\n",
        "    None - maintains case\n",
        "    lower - transforms all tokens to lower case\n",
        "  \"\"\"\n",
        "# ‘\\w+|\\$[\\d\\.]+|\\S+’ # splits up by space or periods that are not attached to a digit\n",
        "\n",
        "  if mode == 'space':\n",
        "    nltk_tokenizer = RegexpTokenizer(r'\\s+', gaps=True)\n",
        "  \n",
        "  elif mode == 'word':\n",
        "    nltk_tokenizer = RegexpTokenizer(r'\\w+')\n",
        "\n",
        "  elif mode == 'default':\n",
        "    tokenized = word_tokenize(text)\n",
        "\n",
        "    if case == 'lower':\n",
        "      print(\"lowering\")\n",
        "      tokenized_lower = [x.lower() for x in tokenized]\n",
        "      print(type(tokenized))\n",
        "      print(tokenized)\n",
        "      #tokenized_lower = tokenized.lower()\n",
        "      return tokenized_lower\n",
        "    else:\n",
        "      return tokenized\n",
        "\n",
        "  if case == 'lower':\n",
        "    tokenized = nltk_tokenizer.tokenize(text.lower())\n",
        "  else:\n",
        "    tokenized = nltk_tokenizer.tokenize(text)\n",
        "  \n",
        "  return tokenized"
      ],
      "execution_count": 166,
      "outputs": []
    },
    {
      "cell_type": "code",
      "metadata": {
        "colab": {
          "base_uri": "https://localhost:8080/",
          "height": 433
        },
        "id": "mr9B3lUJE2kQ",
        "outputId": "27bd7526-6d91-44f9-b50d-5b64257ac1d5"
      },
      "source": [
        "print(\"space\")\n",
        "ting_toke = ting_punc.apply(lambda x: tokenize_nltk(x, mode='space'))\n",
        "display(ting_toke)\n",
        "print(\"word\")\n",
        "ting_toke = ting_punc.apply(lambda x: tokenize_nltk(x, mode='word', case='lower'))\n",
        "display(ting_toke)\n",
        "print(\"default\")\n",
        "ting_toke = ting_punc.apply(lambda x: tokenize_nltk(x, mode='default', case='lower'))\n",
        "display(ting_toke)\n"
      ],
      "execution_count": 167,
      "outputs": [
        {
          "output_type": "stream",
          "text": [
            "space\n"
          ],
          "name": "stdout"
        },
        {
          "output_type": "display_data",
          "data": {
            "text/plain": [
              "0    [punc_STUFF, like:, ', !, @tag, #tag, %f, 2^4,...\n",
              "1    [!, @, #, $, %, ^, &, *, (, ), -, +, ', ., ,, ...\n",
              "2    [tokenize, this, $4, $tuff, for, me, a, of, pl...\n",
              "dtype: object"
            ]
          },
          "metadata": {
            "tags": []
          }
        },
        {
          "output_type": "stream",
          "text": [
            "word\n"
          ],
          "name": "stdout"
        },
        {
          "output_type": "display_data",
          "data": {
            "text/plain": [
              "0    [punc_stuff, like, tag, tag, f, 2, 4, 3, 6, pa...\n",
              "1                                                   []\n",
              "2       [tokenize, this, 4, tuff, for, me, a, of, plz]\n",
              "dtype: object"
            ]
          },
          "metadata": {
            "tags": []
          }
        },
        {
          "output_type": "stream",
          "text": [
            "default\n",
            "lowering\n",
            "<class 'list'>\n",
            "['punc_STUFF', 'like', ':', \"'\", '!', '@', 'tag', '#', 'tag', '%', 'f', '2^4', '3*6', '(', 'par', ')', 'They', \"'re\"]\n",
            "lowering\n",
            "<class 'list'>\n",
            "['!', '@', '#', '$', '%', '^', '&', '*', '(', ')', '-', '+', \"'\", '.', ',', '/', '\\\\']\n",
            "lowering\n",
            "<class 'list'>\n",
            "['tokenize', 'this', '$', '4', '$', 'tuff', 'for', 'me', 'a', 'of', 'plz..']\n"
          ],
          "name": "stdout"
        },
        {
          "output_type": "display_data",
          "data": {
            "text/plain": [
              "0    [punc_stuff, like, :, ', !, @, tag, #, tag, %,...\n",
              "1    [!, @, #, $, %, ^, &, *, (, ), -, +, ', ., ,, ...\n",
              "2    [tokenize, this, $, 4, $, tuff, for, me, a, of...\n",
              "dtype: object"
            ]
          },
          "metadata": {
            "tags": []
          }
        }
      ]
    },
    {
      "cell_type": "code",
      "metadata": {
        "id": "j7zNBTOu-JcG"
      },
      "source": [
        "# remove stopwords\n",
        "def remove_stopwords(text):\n",
        "  \n",
        "  sans_stopwords = [word for word in text if word not in stopwords.words('english')]\n",
        "  return sans_stopwords\n"
      ],
      "execution_count": 172,
      "outputs": []
    },
    {
      "cell_type": "code",
      "metadata": {
        "colab": {
          "base_uri": "https://localhost:8080/"
        },
        "id": "S5pHmqpWBSW0",
        "outputId": "5edf17ad-08ab-4c76-c22c-28af2a083a6d"
      },
      "source": [
        "ting_toke.apply(remove_stopwords)"
      ],
      "execution_count": 176,
      "outputs": [
        {
          "output_type": "execute_result",
          "data": {
            "text/plain": [
              "0    [punc_stuff, like, :, ', !, @, tag, #, tag, %,...\n",
              "1    [!, @, #, $, %, ^, &, *, (, ), -, +, ', ., ,, ...\n",
              "2                     [tokenize, $, 4, $, tuff, plz..]\n",
              "dtype: object"
            ]
          },
          "metadata": {
            "tags": []
          },
          "execution_count": 176
        }
      ]
    },
    {
      "cell_type": "code",
      "metadata": {
        "id": "yNOCJcfh-lZd"
      },
      "source": [
        "# nltk lemmatizer\n",
        "def lemmatize_nltk(text):\n",
        "  # Assert list of words\n",
        "  \n",
        "  lemmatizer = WordNetLemmatizer()\n",
        "  lem_text = [lemmatizer.lemmatize(word) for word in text]\n",
        "  return lem_text"
      ],
      "execution_count": null,
      "outputs": []
    },
    {
      "cell_type": "code",
      "metadata": {
        "colab": {
          "base_uri": "https://localhost:8080/"
        },
        "id": "Mlws3W9WInOF",
        "outputId": "2f603ba6-5dae-4a64-c7ae-60dc5fa3b3f6"
      },
      "source": [
        "pre_lem_string = pd.Series(data=[\n",
        "                          \"helping did these fights things were fighting\"\n",
        "])\n",
        "pre_lem_words = pre_lem_string.apply(tokenize_nltk)\n",
        "print(pre_lem_words)\n",
        "lem_words = pre_lem_words.apply(lemmatize_nltk)\n",
        "print(lem_words)"
      ],
      "execution_count": 195,
      "outputs": [
        {
          "output_type": "stream",
          "text": [
            "0    [helping, did, these, fights, things, were, fi...\n",
            "dtype: object\n",
            "0    [helping, did, these, fight, thing, were, figh...\n",
            "dtype: object\n"
          ],
          "name": "stdout"
        }
      ]
    },
    {
      "cell_type": "code",
      "metadata": {
        "colab": {
          "base_uri": "https://localhost:8080/",
          "height": 34
        },
        "id": "MnFID7pHKniI",
        "outputId": "cce59ad6-509d-4ea9-e3a5-28479af7cab6"
      },
      "source": [
        "lemmatizer = WordNetLemmatizer()\n",
        "lemmatizer.lemmatize(\"fights\")"
      ],
      "execution_count": 192,
      "outputs": [
        {
          "output_type": "execute_result",
          "data": {
            "application/vnd.google.colaboratory.intrinsic+json": {
              "type": "string"
            },
            "text/plain": [
              "'fight'"
            ]
          },
          "metadata": {
            "tags": []
          },
          "execution_count": 192
        }
      ]
    },
    {
      "cell_type": "code",
      "metadata": {
        "id": "Psjmtp_iMYaS"
      },
      "source": [
        "# nltk stemmer (Porter)\n",
        "def porter_stemmer_nltk(text):\n",
        "  # assert list of words\n",
        "  stemmer = PorterStemmer()\n",
        "  stemmed_text = [stemmer.stem(word) for word in text]\n",
        "  \n",
        "  return stemmed_text"
      ],
      "execution_count": 189,
      "outputs": []
    },
    {
      "cell_type": "code",
      "metadata": {
        "colab": {
          "base_uri": "https://localhost:8080/"
        },
        "id": "vLMnbVubNQyo",
        "outputId": "4131bd41-ef08-40b3-c35b-d048b7e463a7"
      },
      "source": [
        "stem_words = pre_lem_words.apply(porter_stemmer_nltk)\n",
        "stem_words"
      ],
      "execution_count": 196,
      "outputs": [
        {
          "output_type": "execute_result",
          "data": {
            "text/plain": [
              "0    [help, did, these, fight, thing, were, fight]\n",
              "dtype: object"
            ]
          },
          "metadata": {
            "tags": []
          },
          "execution_count": 196
        }
      ]
    },
    {
      "cell_type": "code",
      "metadata": {
        "id": "hwXPs3l_EaEI"
      },
      "source": [
        "# complete function\n",
        "def nltk_text_processing(pd_series, punc=False, stop=True, lem=True, stem=True):\n",
        "  if isinstance(pd_series, pd.Series):\n",
        "    print(\"pd_series is a Series\")\n",
        "\n",
        "    if punc:\n",
        "      # remove punctuation.  string remains string\n",
        "      pd_series = pd_series.apply(remove_punctuation)\n",
        "      print(f\"sans_punctuation type: {type(sans_punctuation)}\")\n",
        "\n",
        "    # tokenize.  string becomes list\n",
        "    words = pd_series.apply(tokenize_nltk)\n",
        "    print(f\"words type: {type(words)}\")\n",
        "    \n",
        "    if stop:\n",
        "      # remove stopwords.  list remains list\n",
        "      words = words.apply(remove_stopwords)\n",
        "      print(f\"sans_stopwords type: {type(words)}\")\n",
        "    \n",
        "    if lem:\n",
        "      # lemmatize.  list remains list\n",
        "      words = words.apply(lemmatize_nltk)\n",
        "      print(f\"lemmatized type: {type(words)}\")\n",
        "\n",
        "    if stem:\n",
        "      # stemmer. list remains list\n",
        "      words = words.apply(porter_stemmer_nltk)\n",
        "      print(f\"stemmed type: {type(words)}\")\n",
        "\n",
        "    return words\n",
        "    "
      ],
      "execution_count": 212,
      "outputs": []
    },
    {
      "cell_type": "code",
      "metadata": {
        "colab": {
          "base_uri": "https://localhost:8080/"
        },
        "id": "k8sK4gjkQ9d6",
        "outputId": "5536751d-db82-4f75-bb0d-16e7f0100d77"
      },
      "source": [
        "so_QA_tags['bSoup_question'].iloc[:5]"
      ],
      "execution_count": 200,
      "outputs": [
        {
          "output_type": "execute_result",
          "data": {
            "text/plain": [
              "0    I´m currently trying to customize the error ha...\n",
              "1    I am creating a model using SVM. I wanted to s...\n",
              "2    I created a form with Django forms. I implemen...\n",
              "3    Snippet of my code implementation on PyTorch i...\n",
              "4    I am trying to write a regex in Python for fin...\n",
              "Name: bSoup_question, dtype: object"
            ]
          },
          "metadata": {
            "tags": []
          },
          "execution_count": 200
        }
      ]
    },
    {
      "cell_type": "code",
      "metadata": {
        "colab": {
          "base_uri": "https://localhost:8080/"
        },
        "id": "vNxjI0Tn41f2",
        "outputId": "f58d99b1-0226-4a86-ea69-32ea430b8243"
      },
      "source": [
        "nltk_series = nltk_text_processing(so_QA_tags['bSoup_question'].iloc[:5], stem=False)\n",
        "nltk_series"
      ],
      "execution_count": 214,
      "outputs": [
        {
          "output_type": "stream",
          "text": [
            "pd_series is a Series\n",
            "words type: <class 'pandas.core.series.Series'>\n",
            "sans_stopwords type: <class 'pandas.core.series.Series'>\n",
            "lemmatized type: <class 'pandas.core.series.Series'>\n"
          ],
          "name": "stdout"
        },
        {
          "output_type": "execute_result",
          "data": {
            "text/plain": [
              "0    [I´m, currently, trying, customize, error, han...\n",
              "1    [I, creating, model, using, SVM, ., I, wanted,...\n",
              "2    [I, created, form, Django, form, ., I, impleme...\n",
              "3    [Snippet, code, implementation, PyTorch, :, mo...\n",
              "4    [I, trying, write, regex, Python, finding, eve...\n",
              "Name: bSoup_question, dtype: object"
            ]
          },
          "metadata": {
            "tags": []
          },
          "execution_count": 214
        }
      ]
    },
    {
      "cell_type": "markdown",
      "metadata": {
        "id": "mpHOxVXBHqgc"
      },
      "source": [
        "#### Use NLTK to find most common tokens in the questions, answers, and tags\n"
      ]
    },
    {
      "cell_type": "markdown",
      "metadata": {
        "id": "NTW6pHJRPHv0"
      },
      "source": [
        "#### NLTK N-Grams"
      ]
    },
    {
      "cell_type": "markdown",
      "metadata": {
        "id": "tsM9j9FIIBLK"
      },
      "source": [
        "Finding the most common tags\n",
        "- split by delimiter \"|\"\n",
        "- tokenize using sklearn.multilabelencoder\n",
        "- count the max in each tag column\n",
        "\n"
      ]
    },
    {
      "cell_type": "code",
      "metadata": {
        "id": "YAP6ktAkIY06"
      },
      "source": [
        "from sklearn.preprocessing import MultiLabelBinarizer\n"
      ],
      "execution_count": null,
      "outputs": []
    },
    {
      "cell_type": "code",
      "metadata": {
        "id": "4k0J6irmLmCn"
      },
      "source": [
        "# create tags_list column\n",
        "so_QA_tags['tags_list'] = so_QA_tags['tags'].apply(lambda x: list(x.split('|')))\n",
        "so_QA_tags['tags_list'].head(5)"
      ],
      "execution_count": null,
      "outputs": []
    },
    {
      "cell_type": "code",
      "metadata": {
        "id": "Zo_5_WqaMBg4"
      },
      "source": [
        "mlb = MultiLabelBinarizer()\n",
        "mlb_df = pd.DataFrame(mlb.fit_transform(so_QA_tags['tags_list', columns=mlb.classes_))\n"
      ],
      "execution_count": null,
      "outputs": []
    },
    {
      "cell_type": "code",
      "metadata": {
        "id": "HMwNCxatMrve"
      },
      "source": [
        "so_QA_tags = pd.concat(so_QA_tags, mlb_df, axis=1)"
      ],
      "execution_count": null,
      "outputs": []
    },
    {
      "cell_type": "markdown",
      "metadata": {
        "id": "LHSQYDiMNS9u"
      },
      "source": [
        "COUNT MAX OF sum(column) in mlb_df = most occuring tags\n",
        "\n"
      ]
    },
    {
      "cell_type": "markdown",
      "metadata": {
        "id": "qop_LUiiKZWV"
      },
      "source": [
        "### Spacy\n",
        "\n",
        "Spacy intialization\n",
        "- Initializing pipeline\n",
        "- input text"
      ]
    },
    {
      "cell_type": "code",
      "metadata": {
        "id": "Il_d0SMn_D7g"
      },
      "source": [
        "print(spacy.__version__)\n",
        "nlp = spacy.load('en')"
      ],
      "execution_count": null,
      "outputs": []
    },
    {
      "cell_type": "code",
      "metadata": {
        "id": "aVvIds9-3x9e"
      },
      "source": [
        "print(cleaned_text)\n",
        "doc = nlp(cleaned_text)\n",
        "print(doc)"
      ],
      "execution_count": null,
      "outputs": []
    },
    {
      "cell_type": "markdown",
      "metadata": {
        "id": "od3-GkhQEBrK"
      },
      "source": [
        "#### Tokenizer\n",
        "- automatically tokenized by the pipeline"
      ]
    },
    {
      "cell_type": "code",
      "metadata": {
        "id": "PsD5-0dy4Wgb"
      },
      "source": [
        "# Print all tokens.  If cleaned_text was used instead, each token would be a letter\n",
        "\n",
        "for token in doc:\n",
        "  print(token)"
      ],
      "execution_count": null,
      "outputs": []
    },
    {
      "cell_type": "markdown",
      "metadata": {
        "id": "vvE-JhCqEOWq"
      },
      "source": [
        "#### Lemmatization and Stopword display\n",
        "- token.lemma_\n",
        "- token.is_stop"
      ]
    },
    {
      "cell_type": "code",
      "metadata": {
        "id": "zo1L80c62hdX"
      },
      "source": [
        "print(f\"Token \\t\\tLemma \\t\\tStopword\")\n",
        "print(\"-\"*40)\n",
        "for token in doc:\n",
        "  print(f\"{str(token)}\\t\\t{token.lemma_}\\t\\t{token.is_stop}\")\n"
      ],
      "execution_count": null,
      "outputs": []
    },
    {
      "cell_type": "markdown",
      "metadata": {
        "id": "zMkJ3pYCEVq_"
      },
      "source": [
        "#### Matching Phrases\n",
        "- captures token_id\n",
        "- start and end positions"
      ]
    },
    {
      "cell_type": "code",
      "metadata": {
        "id": "zCyt4Oik8BNg"
      },
      "source": [
        "from spacy.matcher import PhraseMatcher\n",
        "matcher = PhraseMatcher(nlp.vocab, attr='LOWER')\n",
        "\n",
        "key_terms = ['accuracy', 'precision', 'f1']\n",
        "patterns =  [nlp(text) for text in key_terms]\n",
        "matcher.add(\"TerminologyList\", patterns)"
      ],
      "execution_count": null,
      "outputs": []
    },
    {
      "cell_type": "code",
      "metadata": {
        "id": "wqqQPf219O-I"
      },
      "source": [
        "print(test_text_html)\n",
        "text_doc = nlp(test_text_html)\n",
        "matches = matcher(text_doc)\n",
        "print(matches)"
      ],
      "execution_count": null,
      "outputs": []
    },
    {
      "cell_type": "markdown",
      "metadata": {
        "id": "urCLQmVK9sit"
      },
      "source": [
        "The matches are a tuple of (match_id, start pos, end pos)"
      ]
    },
    {
      "cell_type": "code",
      "metadata": {
        "id": "6UA8fHEs-G7P"
      },
      "source": [
        "match_id, start, end = matches[0]\n",
        "print(nlp.vocab.strings[match_id], text_doc[start:end])"
      ],
      "execution_count": null,
      "outputs": []
    },
    {
      "cell_type": "markdown",
      "metadata": {
        "id": "56E8_wSHCN97"
      },
      "source": [
        "- finding tags in a post entry\n",
        "- using iterrows()"
      ]
    },
    {
      "cell_type": "markdown",
      "metadata": {
        "id": "90jxWVh9CNDq"
      },
      "source": [
        "#### Bag of Words\n"
      ]
    },
    {
      "cell_type": "code",
      "metadata": {
        "id": "rpnyBp1WEm8J"
      },
      "source": [
        "# create an empty model without pipes\n",
        "nlp = spacy.blank(\"en\")\n",
        "\n",
        "# create TextCategorizer with exclusive classes and \"bow\" (bag of words) architecture\n",
        "textcat = nlp.create_pipe(\n",
        "    \"textcat\",\n",
        "    config={\n",
        "        # check other params\n",
        "        \"exclusive_classes\": True,  # used if each row had known labels like \"spam\"\n",
        "        \"architecture\": \"bow\"\n",
        "    }\n",
        ")\n",
        "\n",
        "nlp.add_pipe(textcat)\n"
      ],
      "execution_count": null,
      "outputs": []
    },
    {
      "cell_type": "code",
      "metadata": {
        "id": "7A4cbGAxLl09"
      },
      "source": [
        "# Add labels to the text classifier\n",
        "textcat.add_label(\"Top\")\n",
        "textcat.add_label(\"Middle\")\n",
        "textcat.add_label(\"Bottom\")\n",
        "textcat.labels"
      ],
      "execution_count": null,
      "outputs": []
    },
    {
      "cell_type": "markdown",
      "metadata": {
        "id": "5beX--3PwtjN"
      },
      "source": [
        "#### Perform train test split for sample data and also reserve test data\n",
        "\n"
      ]
    },
    {
      "cell_type": "code",
      "metadata": {
        "id": "XThzfF9YyHej"
      },
      "source": [
        "so_QA_tags.columns"
      ],
      "execution_count": null,
      "outputs": []
    },
    {
      "cell_type": "code",
      "metadata": {
        "id": "tQTXFtjPxPVl"
      },
      "source": [
        "so_QA_tags = so_QA_tags.reset_index(drop=True)\n",
        "\n",
        "y = so_QA_tags['dist_section']\n",
        "X = so_QA_tags['bSoup_question']"
      ],
      "execution_count": null,
      "outputs": []
    },
    {
      "cell_type": "code",
      "metadata": {
        "id": "_wX25ZmCxCbN"
      },
      "source": [
        "# sample 10 \n",
        "X_remaining, X_test, y_remaining, y_test = train_test_split(X, y, test_size=.9, stratify=y, random_state=9) \n",
        "tts = [X_remaining, X_test, y_remaining, y_test]\n",
        "\n",
        "X_train, X_validation, y_train, y_validation = train_test_split(X_remaining, y_remaining, test_size=.3, stratify=y_remaining, random_state=9) \n",
        "tts = [X_train, X_validation, y_train, y_validation]"
      ],
      "execution_count": null,
      "outputs": []
    },
    {
      "cell_type": "code",
      "metadata": {
        "id": "UQfKchqKyu4c"
      },
      "source": [
        "def namestr(obj, namespace):\n",
        "    return [name for name in namespace if namespace[name] is obj]\n",
        "\n",
        "\n",
        "for dataset in tts:\n",
        "  print(f\"{namestr(dataset, globals())[0]:20} {dataset.shape}\")"
      ],
      "execution_count": null,
      "outputs": []
    },
    {
      "cell_type": "markdown",
      "metadata": {
        "id": "SXodMQ0UWqNI"
      },
      "source": [
        "#### Apply Spacy to new bSoup_questions column to get token data and create model"
      ]
    },
    {
      "cell_type": "code",
      "metadata": {
        "id": "43_FwMLjYTJe"
      },
      "source": [
        "train_texts = X_train.values\n",
        "train_labels = [{'cats': {'Top': label == 'Top',\n",
        "                                  'Middle': label == 'Middle',\n",
        "                                  'Bottom': label == 'Bottom'}}\n",
        "                for label in y_train]\n",
        "      \n",
        "train_data = list(zip(train_texts, train_labels))\n",
        "train_data[:2]"
      ],
      "execution_count": null,
      "outputs": []
    },
    {
      "cell_type": "code",
      "metadata": {
        "id": "bM5O0LZnXatV"
      },
      "source": [
        "import random\n",
        "from spacy.util import minibatch\n",
        "\n",
        "spacy.util.fix_random_seed(1)\n",
        "optimizer = nlp.begin_training()\n",
        "\n",
        "losses = {}\n",
        "for epoch in range(10):\n",
        "  random.shuffle(train_data)\n",
        "\n",
        "  # Create the batch generator with batch size = 8\n",
        "  batches = minibatch(train_data, size=512)\n",
        "\n",
        "  # Iterate through minibatches\n",
        "  for batch in batches:\n",
        "    # a batch is a tuple of (text, label) and needs to be split to be able to run update()\n",
        "    texts, labels = zip(*batch)\n",
        "    nlp.update(texts, labels, sgd=optimizer, losses=losses)\n",
        "  print(losses)"
      ],
      "execution_count": null,
      "outputs": []
    },
    {
      "cell_type": "code",
      "metadata": {
        "id": "xGATpUmx9QgF"
      },
      "source": [
        "def predict(nlp, texts):\n",
        "  docs = [nlp.tokenizer(text) for text in texts]\n",
        "\n",
        "  textcat = nlp.get_pipe('textcat')\n",
        "  scores, _ = textcat.predict(docs)\n",
        "\n",
        "  predicted_class = scores.argmax(axis=1)\n",
        "  print(scores)\n",
        "  return predicted_class\n",
        "\n",
        "  "
      ],
      "execution_count": null,
      "outputs": []
    },
    {
      "cell_type": "code",
      "metadata": {
        "id": "zHDADYNmAowX"
      },
      "source": [
        "test_text = X_test[:1]\n",
        "print(test_text)\n",
        "y_test[:1]"
      ],
      "execution_count": null,
      "outputs": []
    },
    {
      "cell_type": "code",
      "metadata": {
        "id": "DH72X8pEQxB3"
      },
      "source": [
        "predict(nlp, test_text)"
      ],
      "execution_count": null,
      "outputs": []
    },
    {
      "cell_type": "code",
      "metadata": {
        "id": "f_b-e4ICSOuX"
      },
      "source": [
        ""
      ],
      "execution_count": null,
      "outputs": []
    },
    {
      "cell_type": "code",
      "metadata": {
        "id": "ye-OMf3PR6nY"
      },
      "source": [
        "def evaluate(model, texts, labels):\n",
        "  predicted_class = predict(model, texts)\n",
        "  true_class = np.where(y_test == \"Top\", 2, np.where(y_test == \"middle\", 1, 0))\n",
        "  correct_predictions = predicted_class == true_class\n",
        "\n",
        "  accuracy = correct_predictions.mean()\n",
        "  return accuracy\n",
        "\n"
      ],
      "execution_count": null,
      "outputs": []
    },
    {
      "cell_type": "code",
      "metadata": {
        "id": "rL8PGyZ-TJtf"
      },
      "source": [
        "accuracy = evaluate(nlp, X_test, y_test)"
      ],
      "execution_count": null,
      "outputs": []
    },
    {
      "cell_type": "markdown",
      "metadata": {
        "id": "_DyZMel3wUvA"
      },
      "source": [
        "#### Predictions\n"
      ]
    },
    {
      "cell_type": "markdown",
      "metadata": {
        "id": "WosZFeXPz3On"
      },
      "source": [
        "# Run query to get tag activity by posts_questions tags and question creation_date and last_activity date.\n",
        "feed query data into visualization for time-series analysis on tag activity in last 10 years.\n",
        "\n",
        "- javascript\n",
        "- python\n",
        "- scala\n",
        "- c#\n",
        "- php\n",
        "- ruby\n",
        "- linux\n"
      ]
    }
  ]
}